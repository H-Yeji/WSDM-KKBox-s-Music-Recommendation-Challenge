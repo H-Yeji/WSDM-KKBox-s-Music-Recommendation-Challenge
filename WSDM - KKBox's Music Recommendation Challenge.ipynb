{
 "cells": [
  {
   "cell_type": "code",
   "execution_count": 1,
   "id": "a6a28114",
   "metadata": {},
   "outputs": [],
   "source": [
    "from IPython.core.interactiveshell import InteractiveShell\n",
    "InteractiveShell.ast_node_interactivity ='all'"
   ]
  },
  {
   "cell_type": "code",
   "execution_count": 2,
   "id": "57f63e44",
   "metadata": {},
   "outputs": [
    {
     "name": "stdout",
     "output_type": "stream",
     "text": [
      "Requirement already satisfied: missingno in c:\\users\\82108\\anaconda3\\lib\\site-packages (0.5.1)\n",
      "Requirement already satisfied: numpy in c:\\users\\82108\\anaconda3\\lib\\site-packages (from missingno) (1.20.3)\n",
      "Requirement already satisfied: matplotlib in c:\\users\\82108\\anaconda3\\lib\\site-packages (from missingno) (3.4.3)\n",
      "Requirement already satisfied: seaborn in c:\\users\\82108\\anaconda3\\lib\\site-packages (from missingno) (0.11.2)\n",
      "Requirement already satisfied: scipy in c:\\users\\82108\\anaconda3\\lib\\site-packages (from missingno) (1.7.1)\n",
      "Requirement already satisfied: pillow>=6.2.0 in c:\\users\\82108\\anaconda3\\lib\\site-packages (from matplotlib->missingno) (8.4.0)\n",
      "Requirement already satisfied: python-dateutil>=2.7 in c:\\users\\82108\\anaconda3\\lib\\site-packages (from matplotlib->missingno) (2.8.2)\n",
      "Requirement already satisfied: pyparsing>=2.2.1 in c:\\users\\82108\\anaconda3\\lib\\site-packages (from matplotlib->missingno) (3.0.4)\n",
      "Requirement already satisfied: kiwisolver>=1.0.1 in c:\\users\\82108\\anaconda3\\lib\\site-packages (from matplotlib->missingno) (1.3.1)\n",
      "Requirement already satisfied: cycler>=0.10 in c:\\users\\82108\\anaconda3\\lib\\site-packages (from matplotlib->missingno) (0.10.0)\n",
      "Requirement already satisfied: six in c:\\users\\82108\\anaconda3\\lib\\site-packages (from cycler>=0.10->matplotlib->missingno) (1.16.0)\n",
      "Requirement already satisfied: pandas>=0.23 in c:\\users\\82108\\anaconda3\\lib\\site-packages (from seaborn->missingno) (1.3.4)\n",
      "Requirement already satisfied: pytz>=2017.3 in c:\\users\\82108\\anaconda3\\lib\\site-packages (from pandas>=0.23->seaborn->missingno) (2021.3)\n",
      "Note: you may need to restart the kernel to use updated packages.\n"
     ]
    }
   ],
   "source": [
    "%pip install missingno"
   ]
  },
  {
   "cell_type": "code",
   "execution_count": 3,
   "id": "f007894d",
   "metadata": {},
   "outputs": [],
   "source": [
    "import pandas as pd\n",
    "import numpy as np\n",
    "%matplotlib inline\n",
    "\n",
    "import missingno as msno\n",
    "import warnings\n",
    "warnings.filterwarnings('ignore')\n",
    "\n",
    "import seaborn as sns\n",
    "import matplotlib as mpl\n",
    "import matplotlib.pyplot as plt\n",
    "%matplotlib inline\n",
    "\n",
    "import warnings\n",
    "warnings.filterwarnings('ignore')"
   ]
  },
  {
   "cell_type": "markdown",
   "id": "37cab164",
   "metadata": {},
   "source": [
    "# Data load"
   ]
  },
  {
   "cell_type": "markdown",
   "id": "4bf7df93",
   "metadata": {},
   "source": [
    "## train.csv\n",
    "> source_system.tab: 이벤트가 트리거된 탭의 이름<br>\n",
    "> source_screen_name: 사용자가 보는 레이아웃의 이름<br>\n",
    "> source_type: 사용자가 모바일 앱에서 가장 처음으로 음악을 재생하는 진입점"
   ]
  },
  {
   "cell_type": "code",
   "execution_count": 4,
   "id": "6b58c934",
   "metadata": {},
   "outputs": [
    {
     "data": {
      "text/html": [
       "<div>\n",
       "<style scoped>\n",
       "    .dataframe tbody tr th:only-of-type {\n",
       "        vertical-align: middle;\n",
       "    }\n",
       "\n",
       "    .dataframe tbody tr th {\n",
       "        vertical-align: top;\n",
       "    }\n",
       "\n",
       "    .dataframe thead th {\n",
       "        text-align: right;\n",
       "    }\n",
       "</style>\n",
       "<table border=\"1\" class=\"dataframe\">\n",
       "  <thead>\n",
       "    <tr style=\"text-align: right;\">\n",
       "      <th></th>\n",
       "      <th>msno</th>\n",
       "      <th>song_id</th>\n",
       "      <th>source_system_tab</th>\n",
       "      <th>source_screen_name</th>\n",
       "      <th>source_type</th>\n",
       "      <th>target</th>\n",
       "    </tr>\n",
       "  </thead>\n",
       "  <tbody>\n",
       "    <tr>\n",
       "      <th>0</th>\n",
       "      <td>FGtllVqz18RPiwJj/edr2gV78zirAiY/9SmYvia+kCg=</td>\n",
       "      <td>BBzumQNXUHKdEBOB7mAJuzok+IJA1c2Ryg/yzTF6tik=</td>\n",
       "      <td>explore</td>\n",
       "      <td>Explore</td>\n",
       "      <td>online-playlist</td>\n",
       "      <td>1</td>\n",
       "    </tr>\n",
       "    <tr>\n",
       "      <th>1</th>\n",
       "      <td>Xumu+NIjS6QYVxDS4/t3SawvJ7viT9hPKXmf0RtLNx8=</td>\n",
       "      <td>bhp/MpSNoqoxOIB+/l8WPqu6jldth4DIpCm3ayXnJqM=</td>\n",
       "      <td>my library</td>\n",
       "      <td>Local playlist more</td>\n",
       "      <td>local-playlist</td>\n",
       "      <td>1</td>\n",
       "    </tr>\n",
       "    <tr>\n",
       "      <th>2</th>\n",
       "      <td>Xumu+NIjS6QYVxDS4/t3SawvJ7viT9hPKXmf0RtLNx8=</td>\n",
       "      <td>JNWfrrC7zNN7BdMpsISKa4Mw+xVJYNnxXh3/Epw7QgY=</td>\n",
       "      <td>my library</td>\n",
       "      <td>Local playlist more</td>\n",
       "      <td>local-playlist</td>\n",
       "      <td>1</td>\n",
       "    </tr>\n",
       "    <tr>\n",
       "      <th>3</th>\n",
       "      <td>Xumu+NIjS6QYVxDS4/t3SawvJ7viT9hPKXmf0RtLNx8=</td>\n",
       "      <td>2A87tzfnJTSWqD7gIZHisolhe4DMdzkbd6LzO1KHjNs=</td>\n",
       "      <td>my library</td>\n",
       "      <td>Local playlist more</td>\n",
       "      <td>local-playlist</td>\n",
       "      <td>1</td>\n",
       "    </tr>\n",
       "    <tr>\n",
       "      <th>4</th>\n",
       "      <td>FGtllVqz18RPiwJj/edr2gV78zirAiY/9SmYvia+kCg=</td>\n",
       "      <td>3qm6XTZ6MOCU11x8FIVbAGH5l5uMkT3/ZalWG1oo2Gc=</td>\n",
       "      <td>explore</td>\n",
       "      <td>Explore</td>\n",
       "      <td>online-playlist</td>\n",
       "      <td>1</td>\n",
       "    </tr>\n",
       "  </tbody>\n",
       "</table>\n",
       "</div>"
      ],
      "text/plain": [
       "                                           msno  \\\n",
       "0  FGtllVqz18RPiwJj/edr2gV78zirAiY/9SmYvia+kCg=   \n",
       "1  Xumu+NIjS6QYVxDS4/t3SawvJ7viT9hPKXmf0RtLNx8=   \n",
       "2  Xumu+NIjS6QYVxDS4/t3SawvJ7viT9hPKXmf0RtLNx8=   \n",
       "3  Xumu+NIjS6QYVxDS4/t3SawvJ7viT9hPKXmf0RtLNx8=   \n",
       "4  FGtllVqz18RPiwJj/edr2gV78zirAiY/9SmYvia+kCg=   \n",
       "\n",
       "                                        song_id source_system_tab  \\\n",
       "0  BBzumQNXUHKdEBOB7mAJuzok+IJA1c2Ryg/yzTF6tik=           explore   \n",
       "1  bhp/MpSNoqoxOIB+/l8WPqu6jldth4DIpCm3ayXnJqM=        my library   \n",
       "2  JNWfrrC7zNN7BdMpsISKa4Mw+xVJYNnxXh3/Epw7QgY=        my library   \n",
       "3  2A87tzfnJTSWqD7gIZHisolhe4DMdzkbd6LzO1KHjNs=        my library   \n",
       "4  3qm6XTZ6MOCU11x8FIVbAGH5l5uMkT3/ZalWG1oo2Gc=           explore   \n",
       "\n",
       "    source_screen_name      source_type  target  \n",
       "0              Explore  online-playlist       1  \n",
       "1  Local playlist more   local-playlist       1  \n",
       "2  Local playlist more   local-playlist       1  \n",
       "3  Local playlist more   local-playlist       1  \n",
       "4              Explore  online-playlist       1  "
      ]
     },
     "execution_count": 4,
     "metadata": {},
     "output_type": "execute_result"
    }
   ],
   "source": [
    "X_train=pd.read_csv(\"train.csv\")\n",
    "X_train.head()"
   ]
  },
  {
   "cell_type": "code",
   "execution_count": null,
   "id": "96e8b5ef",
   "metadata": {},
   "outputs": [],
   "source": [
    "X_train.shape"
   ]
  },
  {
   "cell_type": "code",
   "execution_count": null,
   "id": "8f9e7c82",
   "metadata": {},
   "outputs": [],
   "source": [
    "X_train.info()"
   ]
  },
  {
   "cell_type": "code",
   "execution_count": null,
   "id": "e9a289a4",
   "metadata": {},
   "outputs": [],
   "source": [
    "#null갯수 확인\n",
    "X_train[\"song_id\"].isnull().sum()\n",
    "X_train[\"source_system_tab\"].isnull().sum()\n",
    "X_train[\"source_screen_name\"].isnull().sum()\n",
    "X_train[\"source_type\"].isnull().sum()"
   ]
  },
  {
   "cell_type": "code",
   "execution_count": null,
   "id": "05c9758f",
   "metadata": {},
   "outputs": [],
   "source": [
    "X_train['target'].value_counts()"
   ]
  },
  {
   "cell_type": "code",
   "execution_count": null,
   "id": "d22e4c29",
   "metadata": {},
   "outputs": [],
   "source": [
    "#source_system.tab: 이벤트가 트리거된 탭의 이름\n",
    "X_train[\"source_system_tab\"].value_counts()"
   ]
  },
  {
   "cell_type": "code",
   "execution_count": null,
   "id": "87e63a28",
   "metadata": {},
   "outputs": [],
   "source": [
    "#source_screen_name: 사용자가 보는 레이아웃의 이름\n",
    "X_train[\"source_screen_name\"].value_counts()"
   ]
  },
  {
   "cell_type": "code",
   "execution_count": null,
   "id": "38dcd5dc",
   "metadata": {},
   "outputs": [],
   "source": [
    "#source_type: 사용자가 모바일 앱에서 가장 처음으로 음악을 재생하는 진입점\n",
    "X_train[\"source_type\"].value_counts()"
   ]
  },
  {
   "cell_type": "markdown",
   "id": "3ebb10ef",
   "metadata": {},
   "source": [
    "## test.csv\n",
    "> source_system.tab: 이벤트가 트리거된 탭의 이름<br>\n",
    "> source_screen_name: 사용자가 보는 레이아웃의 이름<br>\n",
    "> source_type: 사용자가 모바일 앱에서 가장 처음으로 음악을 재생하는 진입점"
   ]
  },
  {
   "cell_type": "code",
   "execution_count": 5,
   "id": "9550ee3f",
   "metadata": {},
   "outputs": [
    {
     "data": {
      "text/html": [
       "<div>\n",
       "<style scoped>\n",
       "    .dataframe tbody tr th:only-of-type {\n",
       "        vertical-align: middle;\n",
       "    }\n",
       "\n",
       "    .dataframe tbody tr th {\n",
       "        vertical-align: top;\n",
       "    }\n",
       "\n",
       "    .dataframe thead th {\n",
       "        text-align: right;\n",
       "    }\n",
       "</style>\n",
       "<table border=\"1\" class=\"dataframe\">\n",
       "  <thead>\n",
       "    <tr style=\"text-align: right;\">\n",
       "      <th></th>\n",
       "      <th>id</th>\n",
       "      <th>msno</th>\n",
       "      <th>song_id</th>\n",
       "      <th>source_system_tab</th>\n",
       "      <th>source_screen_name</th>\n",
       "      <th>source_type</th>\n",
       "    </tr>\n",
       "  </thead>\n",
       "  <tbody>\n",
       "    <tr>\n",
       "      <th>0</th>\n",
       "      <td>0</td>\n",
       "      <td>V8ruy7SGk7tDm3zA51DPpn6qutt+vmKMBKa21dp54uM=</td>\n",
       "      <td>WmHKgKMlp1lQMecNdNvDMkvIycZYHnFwDT72I5sIssc=</td>\n",
       "      <td>my library</td>\n",
       "      <td>Local playlist more</td>\n",
       "      <td>local-library</td>\n",
       "    </tr>\n",
       "    <tr>\n",
       "      <th>1</th>\n",
       "      <td>1</td>\n",
       "      <td>V8ruy7SGk7tDm3zA51DPpn6qutt+vmKMBKa21dp54uM=</td>\n",
       "      <td>y/rsZ9DC7FwK5F2PK2D5mj+aOBUJAjuu3dZ14NgE0vM=</td>\n",
       "      <td>my library</td>\n",
       "      <td>Local playlist more</td>\n",
       "      <td>local-library</td>\n",
       "    </tr>\n",
       "    <tr>\n",
       "      <th>2</th>\n",
       "      <td>2</td>\n",
       "      <td>/uQAlrAkaczV+nWCd2sPF2ekvXPRipV7q0l+gbLuxjw=</td>\n",
       "      <td>8eZLFOdGVdXBSqoAv5nsLigeH2BvKXzTQYtUM53I0k4=</td>\n",
       "      <td>discover</td>\n",
       "      <td>NaN</td>\n",
       "      <td>song-based-playlist</td>\n",
       "    </tr>\n",
       "    <tr>\n",
       "      <th>3</th>\n",
       "      <td>3</td>\n",
       "      <td>1a6oo/iXKatxQx4eS9zTVD+KlSVaAFbTIqVvwLC1Y0k=</td>\n",
       "      <td>ztCf8thYsS4YN3GcIL/bvoxLm/T5mYBVKOO4C9NiVfQ=</td>\n",
       "      <td>radio</td>\n",
       "      <td>Radio</td>\n",
       "      <td>radio</td>\n",
       "    </tr>\n",
       "    <tr>\n",
       "      <th>4</th>\n",
       "      <td>4</td>\n",
       "      <td>1a6oo/iXKatxQx4eS9zTVD+KlSVaAFbTIqVvwLC1Y0k=</td>\n",
       "      <td>MKVMpslKcQhMaFEgcEQhEfi5+RZhMYlU3eRDpySrH8Y=</td>\n",
       "      <td>radio</td>\n",
       "      <td>Radio</td>\n",
       "      <td>radio</td>\n",
       "    </tr>\n",
       "  </tbody>\n",
       "</table>\n",
       "</div>"
      ],
      "text/plain": [
       "   id                                          msno  \\\n",
       "0   0  V8ruy7SGk7tDm3zA51DPpn6qutt+vmKMBKa21dp54uM=   \n",
       "1   1  V8ruy7SGk7tDm3zA51DPpn6qutt+vmKMBKa21dp54uM=   \n",
       "2   2  /uQAlrAkaczV+nWCd2sPF2ekvXPRipV7q0l+gbLuxjw=   \n",
       "3   3  1a6oo/iXKatxQx4eS9zTVD+KlSVaAFbTIqVvwLC1Y0k=   \n",
       "4   4  1a6oo/iXKatxQx4eS9zTVD+KlSVaAFbTIqVvwLC1Y0k=   \n",
       "\n",
       "                                        song_id source_system_tab  \\\n",
       "0  WmHKgKMlp1lQMecNdNvDMkvIycZYHnFwDT72I5sIssc=        my library   \n",
       "1  y/rsZ9DC7FwK5F2PK2D5mj+aOBUJAjuu3dZ14NgE0vM=        my library   \n",
       "2  8eZLFOdGVdXBSqoAv5nsLigeH2BvKXzTQYtUM53I0k4=          discover   \n",
       "3  ztCf8thYsS4YN3GcIL/bvoxLm/T5mYBVKOO4C9NiVfQ=             radio   \n",
       "4  MKVMpslKcQhMaFEgcEQhEfi5+RZhMYlU3eRDpySrH8Y=             radio   \n",
       "\n",
       "    source_screen_name          source_type  \n",
       "0  Local playlist more        local-library  \n",
       "1  Local playlist more        local-library  \n",
       "2                  NaN  song-based-playlist  \n",
       "3                Radio                radio  \n",
       "4                Radio                radio  "
      ]
     },
     "execution_count": 5,
     "metadata": {},
     "output_type": "execute_result"
    }
   ],
   "source": [
    "X_test=pd.read_csv(\"test.csv\")\n",
    "X_test.head()"
   ]
  },
  {
   "cell_type": "code",
   "execution_count": null,
   "id": "53487a78",
   "metadata": {},
   "outputs": [],
   "source": [
    "X_test.shape"
   ]
  },
  {
   "cell_type": "code",
   "execution_count": null,
   "id": "32d9262d",
   "metadata": {},
   "outputs": [],
   "source": [
    "X_test.info()"
   ]
  },
  {
   "cell_type": "code",
   "execution_count": null,
   "id": "427b6d88",
   "metadata": {},
   "outputs": [],
   "source": [
    "#null갯수 확인\n",
    "X_test[\"song_id\"].isnull().sum()\n",
    "X_test[\"source_system_tab\"].isnull().sum()\n",
    "X_test[\"source_screen_name\"].isnull().sum()\n",
    "X_test[\"source_type\"].isnull().sum()"
   ]
  },
  {
   "cell_type": "code",
   "execution_count": null,
   "id": "cd99744d",
   "metadata": {},
   "outputs": [],
   "source": [
    "#source_system.tab: 이벤트가 트리거된 탭의 이름\n",
    "X_test[\"source_system_tab\"].value_counts()"
   ]
  },
  {
   "cell_type": "code",
   "execution_count": null,
   "id": "99ce6ae8",
   "metadata": {},
   "outputs": [],
   "source": [
    "#source_screen_name: 사용자가 보는 레이아웃의 이름\n",
    "X_test[\"source_screen_name\"].value_counts()"
   ]
  },
  {
   "cell_type": "code",
   "execution_count": null,
   "id": "0910ab24",
   "metadata": {},
   "outputs": [],
   "source": [
    "#source_type: 사용자가 모바일 앱에서 가장 처음으로 음악을 재생하는 진입점\n",
    "X_test[\"source_type\"].value_counts()"
   ]
  },
  {
   "cell_type": "markdown",
   "id": "59bc3d0c",
   "metadata": {},
   "source": [
    "## songs.csv (노래)\n",
    "> song_length : 길이<br>\n",
    "> genre_ids : 장르 id"
   ]
  },
  {
   "cell_type": "code",
   "execution_count": 6,
   "id": "dd367f39",
   "metadata": {},
   "outputs": [
    {
     "data": {
      "text/html": [
       "<div>\n",
       "<style scoped>\n",
       "    .dataframe tbody tr th:only-of-type {\n",
       "        vertical-align: middle;\n",
       "    }\n",
       "\n",
       "    .dataframe tbody tr th {\n",
       "        vertical-align: top;\n",
       "    }\n",
       "\n",
       "    .dataframe thead th {\n",
       "        text-align: right;\n",
       "    }\n",
       "</style>\n",
       "<table border=\"1\" class=\"dataframe\">\n",
       "  <thead>\n",
       "    <tr style=\"text-align: right;\">\n",
       "      <th></th>\n",
       "      <th>song_id</th>\n",
       "      <th>song_length</th>\n",
       "      <th>genre_ids</th>\n",
       "      <th>artist_name</th>\n",
       "      <th>composer</th>\n",
       "      <th>lyricist</th>\n",
       "      <th>language</th>\n",
       "    </tr>\n",
       "  </thead>\n",
       "  <tbody>\n",
       "    <tr>\n",
       "      <th>0</th>\n",
       "      <td>CXoTN1eb7AI+DntdU1vbcwGRV4SCIDxZu+YD8JP8r4E=</td>\n",
       "      <td>247640</td>\n",
       "      <td>465</td>\n",
       "      <td>張信哲 (Jeff Chang)</td>\n",
       "      <td>董貞</td>\n",
       "      <td>何啟弘</td>\n",
       "      <td>3.0</td>\n",
       "    </tr>\n",
       "    <tr>\n",
       "      <th>1</th>\n",
       "      <td>o0kFgae9QtnYgRkVPqLJwa05zIhRlUjfF7O1tDw0ZDU=</td>\n",
       "      <td>197328</td>\n",
       "      <td>444</td>\n",
       "      <td>BLACKPINK</td>\n",
       "      <td>TEDDY|  FUTURE BOUNCE|  Bekuh BOOM</td>\n",
       "      <td>TEDDY</td>\n",
       "      <td>31.0</td>\n",
       "    </tr>\n",
       "    <tr>\n",
       "      <th>2</th>\n",
       "      <td>DwVvVurfpuz+XPuFvucclVQEyPqcpUkHR0ne1RQzPs0=</td>\n",
       "      <td>231781</td>\n",
       "      <td>465</td>\n",
       "      <td>SUPER JUNIOR</td>\n",
       "      <td>NaN</td>\n",
       "      <td>NaN</td>\n",
       "      <td>31.0</td>\n",
       "    </tr>\n",
       "    <tr>\n",
       "      <th>3</th>\n",
       "      <td>dKMBWoZyScdxSkihKG+Vf47nc18N9q4m58+b4e7dSSE=</td>\n",
       "      <td>273554</td>\n",
       "      <td>465</td>\n",
       "      <td>S.H.E</td>\n",
       "      <td>湯小康</td>\n",
       "      <td>徐世珍</td>\n",
       "      <td>3.0</td>\n",
       "    </tr>\n",
       "    <tr>\n",
       "      <th>4</th>\n",
       "      <td>W3bqWd3T+VeHFzHAUfARgW9AvVRaF4N5Yzm4Mr6Eo/o=</td>\n",
       "      <td>140329</td>\n",
       "      <td>726</td>\n",
       "      <td>貴族精選</td>\n",
       "      <td>Traditional</td>\n",
       "      <td>Traditional</td>\n",
       "      <td>52.0</td>\n",
       "    </tr>\n",
       "  </tbody>\n",
       "</table>\n",
       "</div>"
      ],
      "text/plain": [
       "                                        song_id  song_length genre_ids  \\\n",
       "0  CXoTN1eb7AI+DntdU1vbcwGRV4SCIDxZu+YD8JP8r4E=       247640       465   \n",
       "1  o0kFgae9QtnYgRkVPqLJwa05zIhRlUjfF7O1tDw0ZDU=       197328       444   \n",
       "2  DwVvVurfpuz+XPuFvucclVQEyPqcpUkHR0ne1RQzPs0=       231781       465   \n",
       "3  dKMBWoZyScdxSkihKG+Vf47nc18N9q4m58+b4e7dSSE=       273554       465   \n",
       "4  W3bqWd3T+VeHFzHAUfARgW9AvVRaF4N5Yzm4Mr6Eo/o=       140329       726   \n",
       "\n",
       "        artist_name                            composer     lyricist  language  \n",
       "0  張信哲 (Jeff Chang)                                  董貞          何啟弘       3.0  \n",
       "1         BLACKPINK  TEDDY|  FUTURE BOUNCE|  Bekuh BOOM        TEDDY      31.0  \n",
       "2      SUPER JUNIOR                                 NaN          NaN      31.0  \n",
       "3             S.H.E                                 湯小康          徐世珍       3.0  \n",
       "4              貴族精選                         Traditional  Traditional      52.0  "
      ]
     },
     "execution_count": 6,
     "metadata": {},
     "output_type": "execute_result"
    }
   ],
   "source": [
    "song=pd.read_csv(\"songs.csv\")\n",
    "song.head()"
   ]
  },
  {
   "cell_type": "code",
   "execution_count": null,
   "id": "76d3f7c0",
   "metadata": {},
   "outputs": [],
   "source": [
    "song.head(1000)"
   ]
  },
  {
   "cell_type": "code",
   "execution_count": null,
   "id": "db18eecc",
   "metadata": {},
   "outputs": [],
   "source": [
    "song.shape"
   ]
  },
  {
   "cell_type": "code",
   "execution_count": null,
   "id": "c7728455",
   "metadata": {},
   "outputs": [],
   "source": [
    "song.info()"
   ]
  },
  {
   "cell_type": "code",
   "execution_count": null,
   "id": "d2e71031",
   "metadata": {},
   "outputs": [],
   "source": [
    "#song[\"genre_ids\"].value_counts()\n",
    "song[\"artist_name\"].value_counts()"
   ]
  },
  {
   "cell_type": "code",
   "execution_count": null,
   "id": "49a04a7c",
   "metadata": {},
   "outputs": [],
   "source": [
    "#null갯수 확인\n",
    "song[\"song_id\"].isnull().sum()\n",
    "song[\"song_length\"].isnull().sum()\n",
    "song[\"genre_ids\"].isnull().sum()\n",
    "song[\"artist_name\"].isnull().sum()\n",
    "song[\"composer\"].isnull().sum()\n",
    "song[\"lyricist\"].isnull().sum()\n",
    "song[\"language\"].isnull().sum()"
   ]
  },
  {
   "cell_type": "markdown",
   "id": "cebab246",
   "metadata": {},
   "source": [
    "## members.csv (회원정보)\n",
    "> bd : 나이 <br>\n",
    "> registered_via : 등록방법 <br>\n",
    "> registration_init_time : 등록기간 (추정)<br>\n",
    "> expiration_date : 만료일"
   ]
  },
  {
   "cell_type": "code",
   "execution_count": 7,
   "id": "44ba3eb6",
   "metadata": {},
   "outputs": [
    {
     "data": {
      "text/html": [
       "<div>\n",
       "<style scoped>\n",
       "    .dataframe tbody tr th:only-of-type {\n",
       "        vertical-align: middle;\n",
       "    }\n",
       "\n",
       "    .dataframe tbody tr th {\n",
       "        vertical-align: top;\n",
       "    }\n",
       "\n",
       "    .dataframe thead th {\n",
       "        text-align: right;\n",
       "    }\n",
       "</style>\n",
       "<table border=\"1\" class=\"dataframe\">\n",
       "  <thead>\n",
       "    <tr style=\"text-align: right;\">\n",
       "      <th></th>\n",
       "      <th>msno</th>\n",
       "      <th>city</th>\n",
       "      <th>bd</th>\n",
       "      <th>gender</th>\n",
       "      <th>registered_via</th>\n",
       "      <th>registration_init_time</th>\n",
       "      <th>expiration_date</th>\n",
       "    </tr>\n",
       "  </thead>\n",
       "  <tbody>\n",
       "    <tr>\n",
       "      <th>0</th>\n",
       "      <td>XQxgAYj3klVKjR3oxPPXYYFp4soD4TuBghkhMTD4oTw=</td>\n",
       "      <td>1</td>\n",
       "      <td>0</td>\n",
       "      <td>NaN</td>\n",
       "      <td>7</td>\n",
       "      <td>2011-08-20</td>\n",
       "      <td>2017-09-20</td>\n",
       "    </tr>\n",
       "    <tr>\n",
       "      <th>1</th>\n",
       "      <td>UizsfmJb9mV54qE9hCYyU07Va97c0lCRLEQX3ae+ztM=</td>\n",
       "      <td>1</td>\n",
       "      <td>0</td>\n",
       "      <td>NaN</td>\n",
       "      <td>7</td>\n",
       "      <td>2015-06-28</td>\n",
       "      <td>2017-06-22</td>\n",
       "    </tr>\n",
       "    <tr>\n",
       "      <th>2</th>\n",
       "      <td>D8nEhsIOBSoE6VthTaqDX8U6lqjJ7dLdr72mOyLya2A=</td>\n",
       "      <td>1</td>\n",
       "      <td>0</td>\n",
       "      <td>NaN</td>\n",
       "      <td>4</td>\n",
       "      <td>2016-04-11</td>\n",
       "      <td>2017-07-12</td>\n",
       "    </tr>\n",
       "    <tr>\n",
       "      <th>3</th>\n",
       "      <td>mCuD+tZ1hERA/o5GPqk38e041J8ZsBaLcu7nGoIIvhI=</td>\n",
       "      <td>1</td>\n",
       "      <td>0</td>\n",
       "      <td>NaN</td>\n",
       "      <td>9</td>\n",
       "      <td>2015-09-06</td>\n",
       "      <td>2015-09-07</td>\n",
       "    </tr>\n",
       "    <tr>\n",
       "      <th>4</th>\n",
       "      <td>q4HRBfVSssAFS9iRfxWrohxuk9kCYMKjHOEagUMV6rQ=</td>\n",
       "      <td>1</td>\n",
       "      <td>0</td>\n",
       "      <td>NaN</td>\n",
       "      <td>4</td>\n",
       "      <td>2017-01-26</td>\n",
       "      <td>2017-06-13</td>\n",
       "    </tr>\n",
       "  </tbody>\n",
       "</table>\n",
       "</div>"
      ],
      "text/plain": [
       "                                           msno  city  bd gender  \\\n",
       "0  XQxgAYj3klVKjR3oxPPXYYFp4soD4TuBghkhMTD4oTw=     1   0    NaN   \n",
       "1  UizsfmJb9mV54qE9hCYyU07Va97c0lCRLEQX3ae+ztM=     1   0    NaN   \n",
       "2  D8nEhsIOBSoE6VthTaqDX8U6lqjJ7dLdr72mOyLya2A=     1   0    NaN   \n",
       "3  mCuD+tZ1hERA/o5GPqk38e041J8ZsBaLcu7nGoIIvhI=     1   0    NaN   \n",
       "4  q4HRBfVSssAFS9iRfxWrohxuk9kCYMKjHOEagUMV6rQ=     1   0    NaN   \n",
       "\n",
       "   registered_via registration_init_time expiration_date  \n",
       "0               7             2011-08-20      2017-09-20  \n",
       "1               7             2015-06-28      2017-06-22  \n",
       "2               4             2016-04-11      2017-07-12  \n",
       "3               9             2015-09-06      2015-09-07  \n",
       "4               4             2017-01-26      2017-06-13  "
      ]
     },
     "execution_count": 7,
     "metadata": {},
     "output_type": "execute_result"
    }
   ],
   "source": [
    "member=pd.read_csv(\"members.csv\", parse_dates=['registration_init_time','expiration_date'])\n",
    "member.head()"
   ]
  },
  {
   "cell_type": "code",
   "execution_count": null,
   "id": "9a86b225",
   "metadata": {},
   "outputs": [],
   "source": [
    "#member[\"bd\"].value_counts()"
   ]
  },
  {
   "cell_type": "code",
   "execution_count": null,
   "id": "1500264a",
   "metadata": {},
   "outputs": [],
   "source": [
    "member.shape"
   ]
  },
  {
   "cell_type": "code",
   "execution_count": null,
   "id": "47f4ea13",
   "metadata": {},
   "outputs": [],
   "source": [
    "member.info()"
   ]
  },
  {
   "cell_type": "code",
   "execution_count": null,
   "id": "7c09b875",
   "metadata": {},
   "outputs": [],
   "source": [
    "#등록방법\n",
    "member[\"registered_via\"].value_counts()"
   ]
  },
  {
   "cell_type": "markdown",
   "id": "a99369ba",
   "metadata": {},
   "source": [
    "## song_extra_info.csv\n",
    "> name : 곡명 <br>\n",
    "> isrc : 국제 표준 녹음 코드 (노래의 id로 사용 가능하지만 공식적으로 확인되지 않음)"
   ]
  },
  {
   "cell_type": "code",
   "execution_count": 8,
   "id": "51f67177",
   "metadata": {},
   "outputs": [
    {
     "data": {
      "text/html": [
       "<div>\n",
       "<style scoped>\n",
       "    .dataframe tbody tr th:only-of-type {\n",
       "        vertical-align: middle;\n",
       "    }\n",
       "\n",
       "    .dataframe tbody tr th {\n",
       "        vertical-align: top;\n",
       "    }\n",
       "\n",
       "    .dataframe thead th {\n",
       "        text-align: right;\n",
       "    }\n",
       "</style>\n",
       "<table border=\"1\" class=\"dataframe\">\n",
       "  <thead>\n",
       "    <tr style=\"text-align: right;\">\n",
       "      <th></th>\n",
       "      <th>song_id</th>\n",
       "      <th>name</th>\n",
       "      <th>isrc</th>\n",
       "    </tr>\n",
       "  </thead>\n",
       "  <tbody>\n",
       "    <tr>\n",
       "      <th>0</th>\n",
       "      <td>LP7pLJoJFBvyuUwvu+oLzjT+bI+UeBPURCecJsX1jjs=</td>\n",
       "      <td>我們</td>\n",
       "      <td>TWUM71200043</td>\n",
       "    </tr>\n",
       "    <tr>\n",
       "      <th>1</th>\n",
       "      <td>ClazTFnk6r0Bnuie44bocdNMM3rdlrq0bCGAsGUWcHE=</td>\n",
       "      <td>Let Me Love You</td>\n",
       "      <td>QMZSY1600015</td>\n",
       "    </tr>\n",
       "    <tr>\n",
       "      <th>2</th>\n",
       "      <td>u2ja/bZE3zhCGxvbbOB3zOoUjx27u40cf5g09UXMoKQ=</td>\n",
       "      <td>原諒我</td>\n",
       "      <td>TWA530887303</td>\n",
       "    </tr>\n",
       "    <tr>\n",
       "      <th>3</th>\n",
       "      <td>92Fqsy0+p6+RHe2EoLKjHahORHR1Kq1TBJoClW9v+Ts=</td>\n",
       "      <td>Classic</td>\n",
       "      <td>USSM11301446</td>\n",
       "    </tr>\n",
       "    <tr>\n",
       "      <th>4</th>\n",
       "      <td>0QFmz/+rJy1Q56C1DuYqT9hKKqi5TUqx0sN0IwvoHrw=</td>\n",
       "      <td>愛投羅網</td>\n",
       "      <td>TWA471306001</td>\n",
       "    </tr>\n",
       "  </tbody>\n",
       "</table>\n",
       "</div>"
      ],
      "text/plain": [
       "                                        song_id             name          isrc\n",
       "0  LP7pLJoJFBvyuUwvu+oLzjT+bI+UeBPURCecJsX1jjs=               我們  TWUM71200043\n",
       "1  ClazTFnk6r0Bnuie44bocdNMM3rdlrq0bCGAsGUWcHE=  Let Me Love You  QMZSY1600015\n",
       "2  u2ja/bZE3zhCGxvbbOB3zOoUjx27u40cf5g09UXMoKQ=              原諒我  TWA530887303\n",
       "3  92Fqsy0+p6+RHe2EoLKjHahORHR1Kq1TBJoClW9v+Ts=          Classic  USSM11301446\n",
       "4  0QFmz/+rJy1Q56C1DuYqT9hKKqi5TUqx0sN0IwvoHrw=             愛投羅網  TWA471306001"
      ]
     },
     "execution_count": 8,
     "metadata": {},
     "output_type": "execute_result"
    }
   ],
   "source": [
    "song_info = pd.read_csv(\"song_extra_info.csv\")\n",
    "song_info.head()"
   ]
  },
  {
   "cell_type": "code",
   "execution_count": null,
   "id": "35c46ac0",
   "metadata": {},
   "outputs": [],
   "source": [
    "song_info.shape"
   ]
  },
  {
   "cell_type": "code",
   "execution_count": null,
   "id": "a88a06db",
   "metadata": {},
   "outputs": [],
   "source": [
    "#null갯수 확인\n",
    "song_info[\"song_id\"].isnull().sum()\n",
    "song_info[\"name\"].isnull().sum()\n",
    "song_info[\"isrc\"].isnull().sum()"
   ]
  },
  {
   "cell_type": "code",
   "execution_count": null,
   "id": "b81e6856",
   "metadata": {},
   "outputs": [],
   "source": [
    "song_info.info()"
   ]
  },
  {
   "cell_type": "markdown",
   "id": "1919af7c",
   "metadata": {},
   "source": [
    "## sample_submission.csv"
   ]
  },
  {
   "cell_type": "code",
   "execution_count": 9,
   "id": "b832ea21",
   "metadata": {},
   "outputs": [
    {
     "data": {
      "text/html": [
       "<div>\n",
       "<style scoped>\n",
       "    .dataframe tbody tr th:only-of-type {\n",
       "        vertical-align: middle;\n",
       "    }\n",
       "\n",
       "    .dataframe tbody tr th {\n",
       "        vertical-align: top;\n",
       "    }\n",
       "\n",
       "    .dataframe thead th {\n",
       "        text-align: right;\n",
       "    }\n",
       "</style>\n",
       "<table border=\"1\" class=\"dataframe\">\n",
       "  <thead>\n",
       "    <tr style=\"text-align: right;\">\n",
       "      <th></th>\n",
       "      <th>id</th>\n",
       "      <th>target</th>\n",
       "    </tr>\n",
       "  </thead>\n",
       "  <tbody>\n",
       "    <tr>\n",
       "      <th>0</th>\n",
       "      <td>0</td>\n",
       "      <td>0.5</td>\n",
       "    </tr>\n",
       "    <tr>\n",
       "      <th>1</th>\n",
       "      <td>1</td>\n",
       "      <td>0.5</td>\n",
       "    </tr>\n",
       "    <tr>\n",
       "      <th>2</th>\n",
       "      <td>2</td>\n",
       "      <td>0.5</td>\n",
       "    </tr>\n",
       "    <tr>\n",
       "      <th>3</th>\n",
       "      <td>3</td>\n",
       "      <td>0.5</td>\n",
       "    </tr>\n",
       "    <tr>\n",
       "      <th>4</th>\n",
       "      <td>4</td>\n",
       "      <td>0.5</td>\n",
       "    </tr>\n",
       "    <tr>\n",
       "      <th>...</th>\n",
       "      <td>...</td>\n",
       "      <td>...</td>\n",
       "    </tr>\n",
       "    <tr>\n",
       "      <th>2556785</th>\n",
       "      <td>2556785</td>\n",
       "      <td>0.5</td>\n",
       "    </tr>\n",
       "    <tr>\n",
       "      <th>2556786</th>\n",
       "      <td>2556786</td>\n",
       "      <td>0.5</td>\n",
       "    </tr>\n",
       "    <tr>\n",
       "      <th>2556787</th>\n",
       "      <td>2556787</td>\n",
       "      <td>0.5</td>\n",
       "    </tr>\n",
       "    <tr>\n",
       "      <th>2556788</th>\n",
       "      <td>2556788</td>\n",
       "      <td>0.5</td>\n",
       "    </tr>\n",
       "    <tr>\n",
       "      <th>2556789</th>\n",
       "      <td>2556789</td>\n",
       "      <td>0.5</td>\n",
       "    </tr>\n",
       "  </tbody>\n",
       "</table>\n",
       "<p>2556790 rows × 2 columns</p>\n",
       "</div>"
      ],
      "text/plain": [
       "              id  target\n",
       "0              0     0.5\n",
       "1              1     0.5\n",
       "2              2     0.5\n",
       "3              3     0.5\n",
       "4              4     0.5\n",
       "...          ...     ...\n",
       "2556785  2556785     0.5\n",
       "2556786  2556786     0.5\n",
       "2556787  2556787     0.5\n",
       "2556788  2556788     0.5\n",
       "2556789  2556789     0.5\n",
       "\n",
       "[2556790 rows x 2 columns]"
      ]
     },
     "execution_count": 9,
     "metadata": {},
     "output_type": "execute_result"
    }
   ],
   "source": [
    "sub = pd.read_csv(\"sample_submission.csv\")\n",
    "sub"
   ]
  },
  {
   "cell_type": "code",
   "execution_count": null,
   "id": "d42cf23c",
   "metadata": {},
   "outputs": [],
   "source": [
    "#X_test의 행 갯수가 같음 (해당id로 제출)\n",
    "sub.shape"
   ]
  },
  {
   "cell_type": "markdown",
   "id": "dcaff9d3",
   "metadata": {},
   "source": [
    "# EDA"
   ]
  },
  {
   "cell_type": "markdown",
   "id": "a7934394",
   "metadata": {},
   "source": [
    "## Data Merge"
   ]
  },
  {
   "cell_type": "code",
   "execution_count": 20,
   "id": "d2cce5b0",
   "metadata": {},
   "outputs": [],
   "source": [
    "# train\n",
    "df = X_train\n",
    "\n",
    "# test\n",
    "df_test = X_test\n",
    "\n",
    "# songs.csv파일을 [song_id]로 left join\n",
    "# train\n",
    "df = pd.merge(df, song, on='song_id', how='left')\n",
    "# test\n",
    "df_test = pd.merge(df_test, song, on='song_id', how='left')\n",
    "\n",
    "# members.csv 파일을 [msno]로 left join\n",
    "# train\n",
    "df=pd.merge(df, member, on='msno', how='left')\n",
    "# test\n",
    "df_test=pd.merge(df_test, member, on='msno', how='left')\n",
    "\n",
    "# song_extra_info.csv 파일을 song_id로 left join\n",
    "# train\n",
    "df=pd.merge(df, song_info, on='song_id', how='left')\n",
    "# test\n",
    "df_test=pd.merge(df_test, song_info, on='song_id', how='left')"
   ]
  },
  {
   "cell_type": "code",
   "execution_count": 15,
   "id": "c95eac51",
   "metadata": {},
   "outputs": [
    {
     "name": "stdout",
     "output_type": "stream",
     "text": [
      "<class 'pandas.core.frame.DataFrame'>\n",
      "Int64Index: 7377418 entries, 0 to 7377417\n",
      "Data columns (total 21 columns):\n",
      " #   Column                  Dtype         \n",
      "---  ------                  -----         \n",
      " 0   msno                    object        \n",
      " 1   song_id                 object        \n",
      " 2   source_system_tab       object        \n",
      " 3   source_screen_name      object        \n",
      " 4   source_type             object        \n",
      " 5   target                  int64         \n",
      " 6   song_length             float64       \n",
      " 7   genre_ids               object        \n",
      " 8   artist_name             object        \n",
      " 9   composer                object        \n",
      " 10  lyricist                object        \n",
      " 11  language                float64       \n",
      " 12  city                    int64         \n",
      " 13  bd                      int64         \n",
      " 14  gender                  object        \n",
      " 15  registered_via          int64         \n",
      " 16  registration_init_time  datetime64[ns]\n",
      " 17  expiration_date         datetime64[ns]\n",
      " 18  name                    object        \n",
      " 19  isrc                    object        \n",
      " 20  song_year               float64       \n",
      "dtypes: datetime64[ns](2), float64(3), int64(4), object(12)\n",
      "memory usage: 1.5+ GB\n",
      "<class 'pandas.core.frame.DataFrame'>\n",
      "Int64Index: 2556790 entries, 0 to 2556789\n",
      "Data columns (total 21 columns):\n",
      " #   Column                  Dtype         \n",
      "---  ------                  -----         \n",
      " 0   id                      int64         \n",
      " 1   msno                    object        \n",
      " 2   song_id                 object        \n",
      " 3   source_system_tab       object        \n",
      " 4   source_screen_name      object        \n",
      " 5   source_type             object        \n",
      " 6   song_length             float64       \n",
      " 7   genre_ids               object        \n",
      " 8   artist_name             object        \n",
      " 9   composer                object        \n",
      " 10  lyricist                object        \n",
      " 11  language                float64       \n",
      " 12  city                    int64         \n",
      " 13  bd                      int64         \n",
      " 14  gender                  object        \n",
      " 15  registered_via          int64         \n",
      " 16  registration_init_time  datetime64[ns]\n",
      " 17  expiration_date         datetime64[ns]\n",
      " 18  name                    object        \n",
      " 19  isrc                    object        \n",
      " 20  song_year               float64       \n",
      "dtypes: datetime64[ns](2), float64(3), int64(4), object(12)\n",
      "memory usage: 429.1+ MB\n"
     ]
    }
   ],
   "source": [
    "#df(train)에는 id가 없고, df_test에는 target 피처가 없음\n",
    "df.info()\n",
    "df_test.info()"
   ]
  },
  {
   "cell_type": "markdown",
   "id": "f013b6bd",
   "metadata": {},
   "source": [
    "## df 파일 데이터 탐색"
   ]
  },
  {
   "cell_type": "code",
   "execution_count": null,
   "id": "936c3699",
   "metadata": {},
   "outputs": [],
   "source": [
    "df.head()\n",
    "df_test.head()"
   ]
  },
  {
   "cell_type": "code",
   "execution_count": null,
   "id": "9c5e4e5f",
   "metadata": {},
   "outputs": [],
   "source": [
    "df.shape, df_test.shape"
   ]
  },
  {
   "cell_type": "markdown",
   "id": "418542c1",
   "metadata": {},
   "source": [
    "## 결측값 확인"
   ]
  },
  {
   "cell_type": "code",
   "execution_count": 6,
   "id": "9906556c",
   "metadata": {},
   "outputs": [
    {
     "data": {
      "text/plain": [
       "<AxesSubplot:>"
      ]
     },
     "execution_count": 6,
     "metadata": {},
     "output_type": "execute_result"
    },
    {
     "data": {
      "text/plain": [
       "<AxesSubplot:>"
      ]
     },
     "execution_count": 6,
     "metadata": {},
     "output_type": "execute_result"
    },
    {
     "data": {
      "image/png": "[encoded data removed]",
      "text/plain": [
       "<Figure size 1800x720 with 2 Axes>"
      ]
     },
     "metadata": {
      "needs_background": "light"
     },
     "output_type": "display_data"
    },
    {
     "data": {
      "image/png": "[encoded data removed]",
      "text/plain": [
       "<Figure size 1800x720 with 2 Axes>"
      ]
     },
     "metadata": {
      "needs_background": "light"
     },
     "output_type": "display_data"
    }
   ],
   "source": [
    "msno.matrix(df)\n",
    "msno.matrix(df_test)"
   ]
  },
  {
   "cell_type": "markdown",
   "id": "65f2d172",
   "metadata": {},
   "source": [
    "## 피처 요약표"
   ]
  },
  {
   "cell_type": "code",
   "execution_count": 7,
   "id": "347bed8c",
   "metadata": {},
   "outputs": [
    {
     "data": {
      "text/html": [
       "<style type=\"text/css\">\n",
       "#T_7906d_row0_col1 {\n",
       "  background-color: #fff1ab;\n",
       "  color: #000000;\n",
       "}\n",
       "#T_7906d_row0_col2, #T_7906d_row0_col3, #T_7906d_row13_col1 {\n",
       "  background-color: #800026;\n",
       "  color: #f1f1f1;\n",
       "}\n",
       "#T_7906d_row1_col1, #T_7906d_row4_col1, #T_7906d_row5_col1, #T_7906d_row6_col1, #T_7906d_row7_col1, #T_7906d_row8_col2, #T_7906d_row8_col3, #T_7906d_row9_col1, #T_7906d_row9_col2, #T_7906d_row9_col3, #T_7906d_row10_col2, #T_7906d_row10_col3, #T_7906d_row11_col2, #T_7906d_row11_col3, #T_7906d_row12_col1, #T_7906d_row12_col2, #T_7906d_row12_col3, #T_7906d_row13_col2, #T_7906d_row13_col3, #T_7906d_row14_col1, #T_7906d_row14_col2, #T_7906d_row14_col3, #T_7906d_row15_col1, #T_7906d_row15_col2, #T_7906d_row15_col3, #T_7906d_row16_col1, #T_7906d_row16_col2, #T_7906d_row16_col3, #T_7906d_row17_col2, #T_7906d_row17_col3, #T_7906d_row18_col1, #T_7906d_row18_col2, #T_7906d_row18_col3, #T_7906d_row19_col2, #T_7906d_row19_col3 {\n",
       "  background-color: #ffffcc;\n",
       "  color: #000000;\n",
       "}\n",
       "#T_7906d_row1_col2, #T_7906d_row1_col3 {\n",
       "  background-color: #a10026;\n",
       "  color: #f1f1f1;\n",
       "}\n",
       "#T_7906d_row2_col1 {\n",
       "  background-color: #fedf83;\n",
       "  color: #000000;\n",
       "}\n",
       "#T_7906d_row2_col2, #T_7906d_row2_col3 {\n",
       "  background-color: #fd8038;\n",
       "  color: #f1f1f1;\n",
       "}\n",
       "#T_7906d_row3_col1 {\n",
       "  background-color: #e31a1c;\n",
       "  color: #f1f1f1;\n",
       "}\n",
       "#T_7906d_row3_col2, #T_7906d_row3_col3 {\n",
       "  background-color: #ffe48d;\n",
       "  color: #000000;\n",
       "}\n",
       "#T_7906d_row4_col2, #T_7906d_row4_col3 {\n",
       "  background-color: #ffec9f;\n",
       "  color: #000000;\n",
       "}\n",
       "#T_7906d_row5_col2, #T_7906d_row5_col3 {\n",
       "  background-color: #fffac0;\n",
       "  color: #000000;\n",
       "}\n",
       "#T_7906d_row6_col2, #T_7906d_row6_col3, #T_7906d_row17_col1 {\n",
       "  background-color: #fffec9;\n",
       "  color: #000000;\n",
       "}\n",
       "#T_7906d_row7_col2, #T_7906d_row7_col3 {\n",
       "  background-color: #fffecb;\n",
       "  color: #000000;\n",
       "}\n",
       "#T_7906d_row8_col1 {\n",
       "  background-color: #f74327;\n",
       "  color: #f1f1f1;\n",
       "}\n",
       "#T_7906d_row10_col1 {\n",
       "  background-color: #ffe793;\n",
       "  color: #000000;\n",
       "}\n",
       "#T_7906d_row11_col1 {\n",
       "  background-color: #ffefa5;\n",
       "  color: #000000;\n",
       "}\n",
       "#T_7906d_row19_col1 {\n",
       "  background-color: #fff3af;\n",
       "  color: #000000;\n",
       "}\n",
       "</style>\n",
       "<table id=\"T_7906d_\">\n",
       "  <thead>\n",
       "    <tr>\n",
       "      <th class=\"blank level0\" >&nbsp;</th>\n",
       "      <th class=\"col_heading level0 col0\" >Data Type</th>\n",
       "      <th class=\"col_heading level0 col1\" >Unique Values</th>\n",
       "      <th class=\"col_heading level0 col2\" >Null Values</th>\n",
       "      <th class=\"col_heading level0 col3\" >% null Values</th>\n",
       "    </tr>\n",
       "  </thead>\n",
       "  <tbody>\n",
       "    <tr>\n",
       "      <th id=\"T_7906d_level0_row0\" class=\"row_heading level0 row0\" >lyricist</th>\n",
       "      <td id=\"T_7906d_row0_col0\" class=\"data row0 col0\" >object</td>\n",
       "      <td id=\"T_7906d_row0_col1\" class=\"data row0 col1\" >33888</td>\n",
       "      <td id=\"T_7906d_row0_col2\" class=\"data row0 col2\" >3178798</td>\n",
       "      <td id=\"T_7906d_row0_col3\" class=\"data row0 col3\" >0.430882</td>\n",
       "    </tr>\n",
       "    <tr>\n",
       "      <th id=\"T_7906d_level0_row1\" class=\"row_heading level0 row1\" >gender</th>\n",
       "      <td id=\"T_7906d_row1_col0\" class=\"data row1 col0\" >object</td>\n",
       "      <td id=\"T_7906d_row1_col1\" class=\"data row1 col1\" >2</td>\n",
       "      <td id=\"T_7906d_row1_col2\" class=\"data row1 col2\" >2961479</td>\n",
       "      <td id=\"T_7906d_row1_col3\" class=\"data row1 col3\" >0.401425</td>\n",
       "    </tr>\n",
       "    <tr>\n",
       "      <th id=\"T_7906d_level0_row2\" class=\"row_heading level0 row2\" >composer</th>\n",
       "      <td id=\"T_7906d_row2_col0\" class=\"data row2 col0\" >object</td>\n",
       "      <td id=\"T_7906d_row2_col1\" class=\"data row2 col1\" >76064</td>\n",
       "      <td id=\"T_7906d_row2_col2\" class=\"data row2 col2\" >1675706</td>\n",
       "      <td id=\"T_7906d_row2_col3\" class=\"data row2 col3\" >0.227140</td>\n",
       "    </tr>\n",
       "    <tr>\n",
       "      <th id=\"T_7906d_level0_row3\" class=\"row_heading level0 row3\" >isrc</th>\n",
       "      <td id=\"T_7906d_row3_col0\" class=\"data row3 col0\" >object</td>\n",
       "      <td id=\"T_7906d_row3_col1\" class=\"data row3 col1\" >269760</td>\n",
       "      <td id=\"T_7906d_row3_col2\" class=\"data row3 col2\" >577858</td>\n",
       "      <td id=\"T_7906d_row3_col3\" class=\"data row3 col3\" >0.078328</td>\n",
       "    </tr>\n",
       "    <tr>\n",
       "      <th id=\"T_7906d_level0_row4\" class=\"row_heading level0 row4\" >source_screen_name</th>\n",
       "      <td id=\"T_7906d_row4_col0\" class=\"data row4 col0\" >object</td>\n",
       "      <td id=\"T_7906d_row4_col1\" class=\"data row4 col1\" >20</td>\n",
       "      <td id=\"T_7906d_row4_col2\" class=\"data row4 col2\" >414804</td>\n",
       "      <td id=\"T_7906d_row4_col3\" class=\"data row4 col3\" >0.056226</td>\n",
       "    </tr>\n",
       "    <tr>\n",
       "      <th id=\"T_7906d_level0_row5\" class=\"row_heading level0 row5\" >genre_ids</th>\n",
       "      <td id=\"T_7906d_row5_col0\" class=\"data row5 col0\" >object</td>\n",
       "      <td id=\"T_7906d_row5_col1\" class=\"data row5 col1\" >572</td>\n",
       "      <td id=\"T_7906d_row5_col2\" class=\"data row5 col2\" >118455</td>\n",
       "      <td id=\"T_7906d_row5_col3\" class=\"data row5 col3\" >0.016056</td>\n",
       "    </tr>\n",
       "    <tr>\n",
       "      <th id=\"T_7906d_level0_row6\" class=\"row_heading level0 row6\" >source_system_tab</th>\n",
       "      <td id=\"T_7906d_row6_col0\" class=\"data row6 col0\" >object</td>\n",
       "      <td id=\"T_7906d_row6_col1\" class=\"data row6 col1\" >8</td>\n",
       "      <td id=\"T_7906d_row6_col2\" class=\"data row6 col2\" >24849</td>\n",
       "      <td id=\"T_7906d_row6_col3\" class=\"data row6 col3\" >0.003368</td>\n",
       "    </tr>\n",
       "    <tr>\n",
       "      <th id=\"T_7906d_level0_row7\" class=\"row_heading level0 row7\" >source_type</th>\n",
       "      <td id=\"T_7906d_row7_col0\" class=\"data row7 col0\" >object</td>\n",
       "      <td id=\"T_7906d_row7_col1\" class=\"data row7 col1\" >12</td>\n",
       "      <td id=\"T_7906d_row7_col2\" class=\"data row7 col2\" >21539</td>\n",
       "      <td id=\"T_7906d_row7_col3\" class=\"data row7 col3\" >0.002920</td>\n",
       "    </tr>\n",
       "    <tr>\n",
       "      <th id=\"T_7906d_level0_row8\" class=\"row_heading level0 row8\" >name</th>\n",
       "      <td id=\"T_7906d_row8_col0\" class=\"data row8 col0\" >object</td>\n",
       "      <td id=\"T_7906d_row8_col1\" class=\"data row8 col1\" >234144</td>\n",
       "      <td id=\"T_7906d_row8_col2\" class=\"data row8 col2\" >1457</td>\n",
       "      <td id=\"T_7906d_row8_col3\" class=\"data row8 col3\" >0.000197</td>\n",
       "    </tr>\n",
       "    <tr>\n",
       "      <th id=\"T_7906d_level0_row9\" class=\"row_heading level0 row9\" >language</th>\n",
       "      <td id=\"T_7906d_row9_col0\" class=\"data row9 col0\" >float64</td>\n",
       "      <td id=\"T_7906d_row9_col1\" class=\"data row9 col1\" >10</td>\n",
       "      <td id=\"T_7906d_row9_col2\" class=\"data row9 col2\" >150</td>\n",
       "      <td id=\"T_7906d_row9_col3\" class=\"data row9 col3\" >0.000020</td>\n",
       "    </tr>\n",
       "    <tr>\n",
       "      <th id=\"T_7906d_level0_row10\" class=\"row_heading level0 row10\" >song_length</th>\n",
       "      <td id=\"T_7906d_row10_col0\" class=\"data row10 col0\" >float64</td>\n",
       "      <td id=\"T_7906d_row10_col1\" class=\"data row10 col1\" >60266</td>\n",
       "      <td id=\"T_7906d_row10_col2\" class=\"data row10 col2\" >114</td>\n",
       "      <td id=\"T_7906d_row10_col3\" class=\"data row10 col3\" >0.000015</td>\n",
       "    </tr>\n",
       "    <tr>\n",
       "      <th id=\"T_7906d_level0_row11\" class=\"row_heading level0 row11\" >artist_name</th>\n",
       "      <td id=\"T_7906d_row11_col0\" class=\"data row11 col0\" >object</td>\n",
       "      <td id=\"T_7906d_row11_col1\" class=\"data row11 col1\" >40582</td>\n",
       "      <td id=\"T_7906d_row11_col2\" class=\"data row11 col2\" >114</td>\n",
       "      <td id=\"T_7906d_row11_col3\" class=\"data row11 col3\" >0.000015</td>\n",
       "    </tr>\n",
       "    <tr>\n",
       "      <th id=\"T_7906d_level0_row12\" class=\"row_heading level0 row12\" >target</th>\n",
       "      <td id=\"T_7906d_row12_col0\" class=\"data row12 col0\" >int64</td>\n",
       "      <td id=\"T_7906d_row12_col1\" class=\"data row12 col1\" >2</td>\n",
       "      <td id=\"T_7906d_row12_col2\" class=\"data row12 col2\" >0</td>\n",
       "      <td id=\"T_7906d_row12_col3\" class=\"data row12 col3\" >0.000000</td>\n",
       "    </tr>\n",
       "    <tr>\n",
       "      <th id=\"T_7906d_level0_row13\" class=\"row_heading level0 row13\" >song_id</th>\n",
       "      <td id=\"T_7906d_row13_col0\" class=\"data row13 col0\" >object</td>\n",
       "      <td id=\"T_7906d_row13_col1\" class=\"data row13 col1\" >359966</td>\n",
       "      <td id=\"T_7906d_row13_col2\" class=\"data row13 col2\" >0</td>\n",
       "      <td id=\"T_7906d_row13_col3\" class=\"data row13 col3\" >0.000000</td>\n",
       "    </tr>\n",
       "    <tr>\n",
       "      <th id=\"T_7906d_level0_row14\" class=\"row_heading level0 row14\" >city</th>\n",
       "      <td id=\"T_7906d_row14_col0\" class=\"data row14 col0\" >int64</td>\n",
       "      <td id=\"T_7906d_row14_col1\" class=\"data row14 col1\" >21</td>\n",
       "      <td id=\"T_7906d_row14_col2\" class=\"data row14 col2\" >0</td>\n",
       "      <td id=\"T_7906d_row14_col3\" class=\"data row14 col3\" >0.000000</td>\n",
       "    </tr>\n",
       "    <tr>\n",
       "      <th id=\"T_7906d_level0_row15\" class=\"row_heading level0 row15\" >bd</th>\n",
       "      <td id=\"T_7906d_row15_col0\" class=\"data row15 col0\" >int64</td>\n",
       "      <td id=\"T_7906d_row15_col1\" class=\"data row15 col1\" >92</td>\n",
       "      <td id=\"T_7906d_row15_col2\" class=\"data row15 col2\" >0</td>\n",
       "      <td id=\"T_7906d_row15_col3\" class=\"data row15 col3\" >0.000000</td>\n",
       "    </tr>\n",
       "    <tr>\n",
       "      <th id=\"T_7906d_level0_row16\" class=\"row_heading level0 row16\" >registered_via</th>\n",
       "      <td id=\"T_7906d_row16_col0\" class=\"data row16 col0\" >int64</td>\n",
       "      <td id=\"T_7906d_row16_col1\" class=\"data row16 col1\" >5</td>\n",
       "      <td id=\"T_7906d_row16_col2\" class=\"data row16 col2\" >0</td>\n",
       "      <td id=\"T_7906d_row16_col3\" class=\"data row16 col3\" >0.000000</td>\n",
       "    </tr>\n",
       "    <tr>\n",
       "      <th id=\"T_7906d_level0_row17\" class=\"row_heading level0 row17\" >registration_init_time</th>\n",
       "      <td id=\"T_7906d_row17_col0\" class=\"data row17 col0\" >datetime64[ns]</td>\n",
       "      <td id=\"T_7906d_row17_col1\" class=\"data row17 col1\" >3811</td>\n",
       "      <td id=\"T_7906d_row17_col2\" class=\"data row17 col2\" >0</td>\n",
       "      <td id=\"T_7906d_row17_col3\" class=\"data row17 col3\" >0.000000</td>\n",
       "    </tr>\n",
       "    <tr>\n",
       "      <th id=\"T_7906d_level0_row18\" class=\"row_heading level0 row18\" >expiration_date</th>\n",
       "      <td id=\"T_7906d_row18_col0\" class=\"data row18 col0\" >datetime64[ns]</td>\n",
       "      <td id=\"T_7906d_row18_col1\" class=\"data row18 col1\" >1395</td>\n",
       "      <td id=\"T_7906d_row18_col2\" class=\"data row18 col2\" >0</td>\n",
       "      <td id=\"T_7906d_row18_col3\" class=\"data row18 col3\" >0.000000</td>\n",
       "    </tr>\n",
       "    <tr>\n",
       "      <th id=\"T_7906d_level0_row19\" class=\"row_heading level0 row19\" >msno</th>\n",
       "      <td id=\"T_7906d_row19_col0\" class=\"data row19 col0\" >object</td>\n",
       "      <td id=\"T_7906d_row19_col1\" class=\"data row19 col1\" >30755</td>\n",
       "      <td id=\"T_7906d_row19_col2\" class=\"data row19 col2\" >0</td>\n",
       "      <td id=\"T_7906d_row19_col3\" class=\"data row19 col3\" >0.000000</td>\n",
       "    </tr>\n",
       "  </tbody>\n",
       "</table>\n"
      ],
      "text/plain": [
       "<pandas.io.formats.style.Styler at 0x2abef30e4c0>"
      ]
     },
     "execution_count": 7,
     "metadata": {},
     "output_type": "execute_result"
    }
   ],
   "source": [
    "# train 데이터 타입 및 결측치 확인\n",
    "ch1 = pd.DataFrame(df.dtypes, columns=[\"Data Type\"])\n",
    "ch1[\"Unique Values\"] = df.nunique().sort_values()\n",
    "ch1[\"Null Values\"] = df.isnull().sum()\n",
    "ch1[\"% null Values\"] = df.isnull().sum()/len(df)\n",
    "ch1 = ch1.sort_values(by=\"Null Values\", ascending=False).style.background_gradient(cmap='YlOrRd',axis=0)\n",
    "ch1"
   ]
  },
  {
   "cell_type": "markdown",
   "id": "70a355bb",
   "metadata": {},
   "source": [
    "## Data visualization"
   ]
  },
  {
   "cell_type": "code",
   "execution_count": 9,
   "id": "154cfa11",
   "metadata": {},
   "outputs": [
    {
     "data": {
      "text/plain": [
       "Index(['msno', 'song_id', 'source_system_tab', 'source_screen_name',\n",
       "       'source_type', 'target', 'song_length', 'genre_ids', 'artist_name',\n",
       "       'composer', 'lyricist', 'language', 'city', 'bd', 'gender',\n",
       "       'registered_via', 'registration_init_time', 'expiration_date', 'name',\n",
       "       'isrc'],\n",
       "      dtype='object')"
      ]
     },
     "execution_count": 9,
     "metadata": {},
     "output_type": "execute_result"
    }
   ],
   "source": [
    "df.columns"
   ]
  },
  {
   "cell_type": "code",
   "execution_count": 50,
   "id": "6c14409d",
   "metadata": {},
   "outputs": [
    {
     "data": {
      "text/plain": [
       "<Figure size 504x432 with 0 Axes>"
      ]
     },
     "execution_count": 50,
     "metadata": {},
     "output_type": "execute_result"
    },
    {
     "data": {
      "text/plain": [
       "Text(0.5, 1.0, 'Target Distribution')"
      ]
     },
     "execution_count": 50,
     "metadata": {},
     "output_type": "execute_result"
    },
    {
     "data": {
      "image/png": "[encoded data removed]",
      "text/plain": [
       "<Figure size 504x432 with 1 Axes>"
      ]
     },
     "metadata": {
      "needs_background": "light"
     },
     "output_type": "display_data"
    }
   ],
   "source": [
    "# 타깃값 분포 확인하기\n",
    "mpl.rc('font', size=13) # 폰트 크기 설정\n",
    "plt.figure(figsize=(7, 6)) # Figure 크기 설정\n",
    "\n",
    "# 타깃값 분포 카운트플롯\n",
    "ax = sns.countplot(x='target', data=df)\n",
    "ax.set_title('Target Distribution')"
   ]
  },
  {
   "cell_type": "code",
   "execution_count": 51,
   "id": "50aa1b8c",
   "metadata": {},
   "outputs": [],
   "source": [
    "# 각 값의 비율 그래프 상단에 표시하기.\n",
    "# 비율을 표시해주는 코드를 함수로 구현\n",
    "def write_percent(ax, total_size):\n",
    "    '''도형 객체를 순회하며 막대 상단에 타깃값 비율 표시'''\n",
    "    for patch in ax.patches:\n",
    "        height = patch.get_height()      # 도형 높이(데이터 개수)\n",
    "        width = patch.get_width()        # 도형 너비\n",
    "        left_coord = patch.get_x()       # 도형 왼쪽 테두리의 x축 위치\n",
    "        percent = height/total_size*100  # 타깃값 비율\n",
    "        \n",
    "        # (x, y) 좌표에 텍스트 입력\n",
    "        ax.text(x=left_coord + width/2.0,     # x축 위치\n",
    "                y=height + total_size*0.001,  # y축 위치\n",
    "                s=f'{percent:1.1f}%',         # 입력 텍스트\n",
    "                ha='center')                  # 가운데 정렬"
   ]
  },
  {
   "cell_type": "code",
   "execution_count": 52,
   "id": "a25924ef",
   "metadata": {},
   "outputs": [],
   "source": [
    "import matplotlib.gridspec as gridspec # 여러 그래프를 격자 형태로 배치\n",
    "\n",
    "# 교차분석표 생성 함수\n",
    "def get_crosstab(df, feature):\n",
    "    crosstab = pd.crosstab(df[feature], df['target'], normalize='index') * 100\n",
    "    crosstab = crosstab.reset_index()\n",
    "    return crosstab"
   ]
  },
  {
   "cell_type": "code",
   "execution_count": 53,
   "id": "7bd6bf57",
   "metadata": {},
   "outputs": [],
   "source": [
    "# Step2. 포인트플롯 생성 함수\n",
    "# Step1에서 구한 교차분석표를 이용. 타깃값 1의 비율을 나타내는 포인트플롯을 그리는 함수 만들기 (카운트 플롯 위에 포인트플롯을 중복으로 그림)\n",
    "def plot_pointplot(ax, feature, crosstab):\n",
    "    ax2 = ax.twinx()  # x축은 공유하고 y축은 공유하지 않는 새로운 축 생성\n",
    "    \n",
    "    # 새로운 축에 포인트플롯 그리기\n",
    "    ax2 = sns.pointplot(x=feature, y=1, data=crosstab,\n",
    "                        order=crosstab[feature].values,   # 포인트플롯 순서\n",
    "                        color='black',                    # 포인트플롯 색상\n",
    "                        legend=False)                     # 범례 미표시\n",
    "    ax2.set_ylim(crosstab[1].min()-5, crosstab[1].max()*1.1)  # y축 범위 설정\n",
    "    ax2.set_ylabel('Target 1 Ratio(%)')"
   ]
  },
  {
   "cell_type": "code",
   "execution_count": 58,
   "id": "9be46762",
   "metadata": {},
   "outputs": [],
   "source": [
    "# Step3. 피처 분포도 및 피처별 타깃값 1 비율 포인트플롯 생성 함수\n",
    "def plot_cat_dist_with_true_ratio(df, features, num_rows, num_cols,\n",
    "                                  size=(10, 30)):\n",
    "    plt.figure(figsize=size)  # 전체 Figure 크기 설정\n",
    "    grid = gridspec.GridSpec(num_rows, num_cols)  # 서브플롯 배치\n",
    "    plt.subplots_adjust(wspace=0.45, hspace=2)  # 서브플롯 좌우/상하 여백 설정\n",
    "    \n",
    "    for idx, feature in enumerate(features):\n",
    "        ax = plt.subplot(grid[idx])\n",
    "        crosstab = get_crosstab(df, feature)  # 교차분석표 생성\n",
    "        \n",
    "        # ax축에 타깃값 분포 카운트플롯 그리기\n",
    "        sns.countplot(x=feature, data=df,\n",
    "                      order=crosstab[feature].values,\n",
    "                      color='skyblue',\n",
    "                      ax=ax)\n",
    "        \n",
    "        write_percent(ax, len(df))  # 비율 표시\n",
    "        \n",
    "        plot_pointplot(ax, feature, crosstab)  # 포인트플롯 그리기\n",
    "        \n",
    "        ax.tick_params(axis='x', labelrotation=45)\n",
    "        \n",
    "        ax.set_title(f'{feature} Distribution')  # 그래프 제목 설정"
   ]
  },
  {
   "cell_type": "code",
   "execution_count": 59,
   "id": "70c115c6",
   "metadata": {},
   "outputs": [
    {
     "data": {
      "image/png": "[encoded data removed]",
      "text/plain": [
       "<Figure size 720x2160 with 12 Axes>"
      ]
     },
     "metadata": {
      "needs_background": "light"
     },
     "output_type": "display_data"
    }
   ],
   "source": [
    "# 명목형 피처 분포 시각화\n",
    "nom_features = ['source_system_tab', 'source_screen_name', 'source_type', 'language', 'city', 'registered_via']  # 명목형 피처\n",
    "plot_cat_dist_with_true_ratio(df, nom_features, num_rows=6, num_cols=1)"
   ]
  },
  {
   "cell_type": "markdown",
   "id": "da68a882",
   "metadata": {},
   "source": [
    "- 카운트 플롯 : 피처별 고윳값 비율.\n",
    "- 포인트 플롯 : 해당 고윳값 중 타깃값이 1인 비율.\n",
    "- 명목형 피처 -> 원핫 인코딩"
   ]
  },
  {
   "cell_type": "code",
   "execution_count": 22,
   "id": "db73e1da",
   "metadata": {},
   "outputs": [
    {
     "data": {
      "text/plain": [
       "['target', 'song_length', 'language', 'city', 'bd', 'registered_via']"
      ]
     },
     "execution_count": 22,
     "metadata": {},
     "output_type": "execute_result"
    }
   ],
   "source": [
    "col_feature=[]\n",
    "\n",
    "for col in df.columns:\n",
    "    if (df[col].dtypes != 'object') & (df[col].dtypes != 'datetime64[ns]'):\n",
    "        col_feature.append(col)\n",
    "        \n",
    "col_feature"
   ]
  },
  {
   "cell_type": "code",
   "execution_count": 60,
   "id": "e1b71c98",
   "metadata": {},
   "outputs": [
    {
     "data": {
      "text/plain": [
       "Text(0.5, 1.0, 'check outlier')"
      ]
     },
     "execution_count": 60,
     "metadata": {},
     "output_type": "execute_result"
    },
    {
     "data": {
      "image/png": "[encoded data removed]",
      "text/plain": [
       "<Figure size 1000x500 with 1 Axes>"
      ]
     },
     "metadata": {
      "needs_background": "light"
     },
     "output_type": "display_data"
    }
   ],
   "source": [
    "#박스플랏 이용해서 이상치 확인\n",
    "fig=plt.figure(figsize=(10,5), dpi=100)\n",
    "ax=fig.add_subplot(1,1,1)\n",
    "\n",
    "#_=ax.boxplot(df['bd'])\n",
    "_=ax.boxplot(df[col_feature], labels=col_feature)\n",
    "ax.set_title('check outlier', fontsize=15)\n",
    "\n",
    "fig.show()"
   ]
  },
  {
   "cell_type": "markdown",
   "id": "7d25f100",
   "metadata": {},
   "source": [
    "# Feature Engineering"
   ]
  },
  {
   "cell_type": "markdown",
   "id": "8a5f2808",
   "metadata": {},
   "source": [
    "## 파생피처 추가"
   ]
  },
  {
   "cell_type": "code",
   "execution_count": 30,
   "id": "8aaf54e1",
   "metadata": {},
   "outputs": [],
   "source": [
    "#train\n",
    "# 등록 날짜 분리해서 피처 추가\n",
    "df['registration_year'] = df['registration_init_time'].apply(lambda x:int(str(x)[0:4]))\n",
    "df['registration_month'] = df['registration_init_time'].apply(lambda x:int(str(x)[5:7]))\n",
    "df['registration_day'] = df['registration_init_time'].apply(lambda x:int(str(x)[8:10]))\n",
    "\n",
    "# 만료 날짜 분리해서 피처 추가\n",
    "df['expiration_year'] = df['expiration_date'].apply(lambda x:int(str(x)[0:4]))\n",
    "df['expiration_month'] = df['expiration_date'].apply(lambda x:int(str(x)[5:7]))\n",
    "df['expiration_day'] = df['expiration_date'].apply(lambda x:int(str(x)[8:10]))\n",
    "\n",
    "df=df.drop(['registration_init_time'], axis=1)\n",
    "df=df.drop(['expiration_date'], axis=1)\n",
    "\n",
    "#test\n",
    "# 등록 날짜 분리해서 피처 추가\n",
    "df_test['registration_year'] = df_test['registration_init_time'].apply(lambda x:int(str(x)[0:4]))\n",
    "df_test['registration_month'] = df_test['registration_init_time'].apply(lambda x:int(str(x)[5:7]))\n",
    "df_test['registration_day'] = df_test['registration_init_time'].apply(lambda x:int(str(x)[8:10]))\n",
    "\n",
    "# 만료 날짜 분리해서 피처 추가\n",
    "df_test['expiration_year'] = df_test['expiration_date'].apply(lambda x:int(str(x)[0:4]))\n",
    "df_test['expiration_month'] = df_test['expiration_date'].apply(lambda x:int(str(x)[5:7]))\n",
    "df_test['expiration_day'] = df_test['expiration_date'].apply(lambda x:int(str(x)[8:10]))\n",
    "\n",
    "df_test=df_test.drop(['registration_init_time'], axis=1)\n",
    "df_test=df_test.drop(['expiration_date'], axis=1)"
   ]
  },
  {
   "cell_type": "code",
   "execution_count": 31,
   "id": "3c461990",
   "metadata": {},
   "outputs": [],
   "source": [
    "#isrc에서 년도 추출해 새로운 피처 생성\n",
    "def isrc_to_year(isrc):\n",
    "    if type(isrc)==str:\n",
    "        if int(isrc[5:7])>17:\n",
    "            return 1900+int(isrc[5:7])\n",
    "        else:\n",
    "            return 2000+int(isrc[5:7])\n",
    "    else:\n",
    "        return np.nan"
   ]
  },
  {
   "cell_type": "code",
   "execution_count": 32,
   "id": "19a5a97f",
   "metadata": {},
   "outputs": [],
   "source": [
    "df['song_year']=df['isrc'].apply(isrc_to_year)\n",
    "df_test['song_year']=df['isrc'].apply(isrc_to_year)"
   ]
  },
  {
   "cell_type": "markdown",
   "id": "11f08c42",
   "metadata": {},
   "source": [
    "## 결측값 처리"
   ]
  },
  {
   "cell_type": "code",
   "execution_count": 35,
   "id": "90d0b33a",
   "metadata": {},
   "outputs": [],
   "source": [
    "#song_length, language, song_year 피처 결측치 처리\n",
    "df['song_length'].fillna(df['song_length'].mean() , inplace = True)\n",
    "df['song_length'] = df['song_length'].astype(np.uint32)\n",
    "df['language'].fillna(df['language'].mode().values[0] , inplace= True)\n",
    "df['language'] = df['language'].astype(np.int8)\n",
    "df['song_year'].fillna(1917, inplace = True)\n",
    "df['song_year'] = df['song_year'].astype(np.int8)\n",
    "\n",
    "df_test['song_length'].fillna(df_test['song_length'].mean() , inplace = True)\n",
    "df_test['song_length'] = df_test['song_length'].astype(np.uint32)\n",
    "df_test['language'].fillna(df_test['language'].mode().values[0] , inplace= True)\n",
    "df_test['language'] = df_test['language'].astype(np.int8)\n",
    "df_test['song_year'].fillna(1917, inplace = True)\n",
    "df_test['song_year'] = df_test['song_year'].astype(np.int8)"
   ]
  },
  {
   "cell_type": "code",
   "execution_count": 36,
   "id": "c34dbdf8",
   "metadata": {},
   "outputs": [],
   "source": [
    "# 결측치 채우기 - df\n",
    "\n",
    "# String Null 일 경우, 'Unknown'\n",
    "for col in df.select_dtypes(include=['object']).columns:\n",
    "    df[col] = df[col].fillna(value = \"unknown\")\n",
    "    \n",
    "# Numerics Null 일 경우, mean    \n",
    "for col in df.select_dtypes(exclude=['object']).columns:\n",
    "    df[col] = df[col].fillna(value = df[col].mean())"
   ]
  },
  {
   "cell_type": "code",
   "execution_count": 37,
   "id": "28ea4019",
   "metadata": {},
   "outputs": [],
   "source": [
    "# 결측치 채우기 - df_test\n",
    "\n",
    "# String Null 일 경우, 'Unknown'\n",
    "for col in df_test.select_dtypes(include=['object']).columns:\n",
    "    df_test[col] = df_test[col].fillna(value = \"unknown\")\n",
    "    \n",
    "# Numerics Null 일 경우, mean    \n",
    "for col in df_test.select_dtypes(exclude=['object']).columns:\n",
    "    df_test[col] = df_test[col].fillna(value = df_test[col].mean())"
   ]
  },
  {
   "cell_type": "markdown",
   "id": "1c84826d",
   "metadata": {},
   "source": [
    "## 이상치 처리(bd)"
   ]
  },
  {
   "cell_type": "code",
   "execution_count": 38,
   "id": "b7692ada",
   "metadata": {},
   "outputs": [
    {
     "data": {
      "text/plain": [
       "array([   0,   24,   26,   27,   18,   34,   20,   19,   28,   41,   32,\n",
       "         36,   46,   30,   23,   67,   22,   29,   21,   31,   39,   35,\n",
       "         16,   25,   38,   17,   43,   47,   33,   37,   44,   49,   50,\n",
       "         40,   52,   45,   53,   64,   57,   48,   51,   59,   54,   42,\n",
       "         55,    3,  111,   65,   73,   60,   58,   56,   66,   14,  131,\n",
       "         74,   62,   61,   63,    7,  103, 1030,  -43,   15,  105,  107,\n",
       "         68,   13,  931,   72,   11,    2,   87,  144,   95,   83,   12,\n",
       "         93,    5,  112,   90,   10,   70,  -38,   82,   89,  106,  102,\n",
       "         85, 1051,   78,   76], dtype=int64)"
      ]
     },
     "execution_count": 38,
     "metadata": {},
     "output_type": "execute_result"
    }
   ],
   "source": [
    "#이상치 확인\n",
    "df['bd'].unique()"
   ]
  },
  {
   "cell_type": "code",
   "execution_count": 39,
   "id": "01ba6770",
   "metadata": {},
   "outputs": [],
   "source": [
    "df['bd'] = df['bd'].apply(lambda x : 0 if x > 100 else abs(x))\n",
    "df_test['bd'] = df_test['bd'].apply(lambda x : 0 if x > 100 else abs(x))"
   ]
  },
  {
   "cell_type": "code",
   "execution_count": 41,
   "id": "eb19aaea",
   "metadata": {},
   "outputs": [
    {
     "data": {
      "text/plain": [
       "array([ 0, 24, 26, 27, 18, 34, 20, 19, 28, 41, 32, 36, 46, 30, 23, 67, 22,\n",
       "       29, 21, 31, 39, 35, 16, 25, 38, 17, 43, 47, 33, 37, 44, 49, 50, 40,\n",
       "       52, 45, 53, 64, 57, 48, 51, 59, 54, 42, 55,  3, 65, 73, 60, 58, 56,\n",
       "       66, 14, 74, 62, 61, 63,  7, 15, 68, 13, 72, 11,  2, 87, 95, 83, 12,\n",
       "       93,  5, 90, 10, 70, 82, 89, 85, 78, 76], dtype=int64)"
      ]
     },
     "execution_count": 41,
     "metadata": {},
     "output_type": "execute_result"
    }
   ],
   "source": [
    "df['bd'].unique()"
   ]
  },
  {
   "cell_type": "markdown",
   "id": "e7828374",
   "metadata": {},
   "source": [
    "## 피처 제거"
   ]
  },
  {
   "cell_type": "code",
   "execution_count": 40,
   "id": "7c1d2326",
   "metadata": {},
   "outputs": [],
   "source": [
    "df=df.drop([\"isrc\", \"name\"], axis=1) #name:곡명은 song_id로 대체, isrc피처 추출 완료\n",
    "df_test=df_test.drop([\"isrc\",\"name\"], axis=1)"
   ]
  },
  {
   "cell_type": "markdown",
   "id": "07e19913",
   "metadata": {},
   "source": [
    "## Data Encoding"
   ]
  },
  {
   "cell_type": "code",
   "execution_count": 29,
   "id": "30e8fedf",
   "metadata": {},
   "outputs": [],
   "source": [
    "from sklearn.preprocessing import LabelEncoder\n",
    "\n",
    "label_encoder = LabelEncoder()\n",
    "for i in df.columns:\n",
    "    df[i] = label_encoder.fit_transform(df[i])\n",
    "    \n",
    "for i in df_test.columns:\n",
    "    df_test[i] = label_encoder.fit_transform(df_test[i])"
   ]
  },
  {
   "cell_type": "code",
   "execution_count": 73,
   "id": "030dae83",
   "metadata": {},
   "outputs": [
    {
     "name": "stdout",
     "output_type": "stream",
     "text": [
      "<class 'pandas.core.frame.DataFrame'>\n",
      "Int64Index: 7377418 entries, 0 to 7377417\n",
      "Data columns (total 23 columns):\n",
      " #   Column              Dtype \n",
      "---  ------              ----- \n",
      " 0   msno                int16 \n",
      " 1   song_id             int32 \n",
      " 2   source_system_tab   int32 \n",
      " 3   source_screen_name  int32 \n",
      " 4   source_type         int32 \n",
      " 5   target              int64 \n",
      " 6   song_length         uint32\n",
      " 7   genre_ids           int16 \n",
      " 8   artist_name         int32 \n",
      " 9   composer            int32 \n",
      " 10  lyricist            int32 \n",
      " 11  language            int8  \n",
      " 12  city                int64 \n",
      " 13  bd                  int64 \n",
      " 14  gender              int32 \n",
      " 15  registered_via      int64 \n",
      " 16  registration_year   int64 \n",
      " 17  registration_month  int64 \n",
      " 18  registration_day    int64 \n",
      " 19  expiration_year     int64 \n",
      " 20  expiration_month    int64 \n",
      " 21  expiration_day      int64 \n",
      " 22  song_year           int8  \n",
      "dtypes: int16(2), int32(8), int64(10), int8(2), uint32(1)\n",
      "memory usage: 1.1 GB\n"
     ]
    }
   ],
   "source": [
    "df.info()"
   ]
  },
  {
   "cell_type": "code",
   "execution_count": 74,
   "id": "a97a1a54",
   "metadata": {},
   "outputs": [
    {
     "name": "stdout",
     "output_type": "stream",
     "text": [
      "<class 'pandas.core.frame.DataFrame'>\n",
      "Int64Index: 2556790 entries, 0 to 2556789\n",
      "Data columns (total 23 columns):\n",
      " #   Column              Dtype \n",
      "---  ------              ----- \n",
      " 0   id                  int64 \n",
      " 1   msno                int16 \n",
      " 2   song_id             int32 \n",
      " 3   source_system_tab   int32 \n",
      " 4   source_screen_name  int32 \n",
      " 5   source_type         int32 \n",
      " 6   song_length         uint32\n",
      " 7   genre_ids           int16 \n",
      " 8   artist_name         int16 \n",
      " 9   composer            int32 \n",
      " 10  lyricist            int16 \n",
      " 11  language            int8  \n",
      " 12  city                int64 \n",
      " 13  bd                  int64 \n",
      " 14  gender              int32 \n",
      " 15  registered_via      int64 \n",
      " 16  registration_year   int64 \n",
      " 17  registration_month  int64 \n",
      " 18  registration_day    int64 \n",
      " 19  expiration_year     int64 \n",
      " 20  expiration_month    int64 \n",
      " 21  expiration_day      int64 \n",
      " 22  song_year           int8  \n",
      "dtypes: int16(4), int32(6), int64(10), int8(2), uint32(1)\n",
      "memory usage: 307.2 MB\n"
     ]
    }
   ],
   "source": [
    "df_test.info()"
   ]
  },
  {
   "cell_type": "markdown",
   "id": "be903cd1",
   "metadata": {},
   "source": [
    "# Baseline (LGBM)"
   ]
  },
  {
   "cell_type": "markdown",
   "id": "52a5de5d",
   "metadata": {},
   "source": [
    "## Data split"
   ]
  },
  {
   "cell_type": "code",
   "execution_count": 30,
   "id": "143309fd",
   "metadata": {},
   "outputs": [],
   "source": [
    "#X, y 분리\n",
    "y = df[['target']]\n",
    "X = df.drop('target', axis=1)"
   ]
  },
  {
   "cell_type": "code",
   "execution_count": 77,
   "id": "4904d7f9",
   "metadata": {},
   "outputs": [
    {
     "name": "stdout",
     "output_type": "stream",
     "text": [
      "<class 'pandas.core.frame.DataFrame'>\n",
      "Int64Index: 7377418 entries, 0 to 7377417\n",
      "Data columns (total 22 columns):\n",
      " #   Column              Dtype \n",
      "---  ------              ----- \n",
      " 0   msno                int16 \n",
      " 1   song_id             int32 \n",
      " 2   source_system_tab   int32 \n",
      " 3   source_screen_name  int32 \n",
      " 4   source_type         int32 \n",
      " 5   song_length         uint32\n",
      " 6   genre_ids           int16 \n",
      " 7   artist_name         int32 \n",
      " 8   composer            int32 \n",
      " 9   lyricist            int32 \n",
      " 10  language            int8  \n",
      " 11  city                int64 \n",
      " 12  bd                  int64 \n",
      " 13  gender              int32 \n",
      " 14  registered_via      int64 \n",
      " 15  registration_year   int64 \n",
      " 16  registration_month  int64 \n",
      " 17  registration_day    int64 \n",
      " 18  expiration_year     int64 \n",
      " 19  expiration_month    int64 \n",
      " 20  expiration_day      int64 \n",
      " 21  song_year           int8  \n",
      "dtypes: int16(2), int32(8), int64(9), int8(2), uint32(1)\n",
      "memory usage: 1.1 GB\n",
      "<class 'pandas.core.frame.DataFrame'>\n",
      "Int64Index: 7377418 entries, 0 to 7377417\n",
      "Data columns (total 1 columns):\n",
      " #   Column  Dtype\n",
      "---  ------  -----\n",
      " 0   target  int64\n",
      "dtypes: int64(1)\n",
      "memory usage: 370.6 MB\n"
     ]
    }
   ],
   "source": [
    "X.info()\n",
    "y.info()"
   ]
  },
  {
   "cell_type": "code",
   "execution_count": 31,
   "id": "563991bc",
   "metadata": {},
   "outputs": [],
   "source": [
    "#train_test_split\n",
    "from sklearn.model_selection import train_test_split\n",
    "\n",
    "x_train, x_valid, y_train, y_valid = train_test_split(X, y, test_size=0.2, random_state=42)"
   ]
  },
  {
   "cell_type": "code",
   "execution_count": 79,
   "id": "4a7e134e",
   "metadata": {},
   "outputs": [
    {
     "data": {
      "text/plain": [
       "((5901934, 22), (1475484, 22), (5901934, 1), (1475484, 1))"
      ]
     },
     "execution_count": 79,
     "metadata": {},
     "output_type": "execute_result"
    }
   ],
   "source": [
    "x_train.shape, x_valid.shape, y_train.shape, y_valid.shape"
   ]
  },
  {
   "cell_type": "markdown",
   "id": "8eb4bd40",
   "metadata": {},
   "source": [
    "## LightGBM"
   ]
  },
  {
   "cell_type": "code",
   "execution_count": 32,
   "id": "94867e33",
   "metadata": {},
   "outputs": [
    {
     "name": "stdout",
     "output_type": "stream",
     "text": [
      "Requirement already satisfied: lightgbm in c:\\users\\82108\\anaconda3\\lib\\site-packages (3.3.3)\n",
      "Requirement already satisfied: scipy in c:\\users\\82108\\anaconda3\\lib\\site-packages (from lightgbm) (1.7.1)\n",
      "Requirement already satisfied: numpy in c:\\users\\82108\\anaconda3\\lib\\site-packages (from lightgbm) (1.20.3)\n",
      "Requirement already satisfied: scikit-learn!=0.22.0 in c:\\users\\82108\\appdata\\roaming\\python\\python39\\site-packages (from lightgbm) (1.1.1)\n",
      "Requirement already satisfied: wheel in c:\\users\\82108\\anaconda3\\lib\\site-packages (from lightgbm) (0.37.0)\n",
      "Requirement already satisfied: threadpoolctl>=2.0.0 in c:\\users\\82108\\anaconda3\\lib\\site-packages (from scikit-learn!=0.22.0->lightgbm) (2.2.0)\n",
      "Requirement already satisfied: joblib>=1.0.0 in c:\\users\\82108\\anaconda3\\lib\\site-packages (from scikit-learn!=0.22.0->lightgbm) (1.1.0)\n",
      "Note: you may need to restart the kernel to use updated packages.\n"
     ]
    }
   ],
   "source": [
    "%pip install lightgbm"
   ]
  },
  {
   "cell_type": "code",
   "execution_count": 33,
   "id": "17210d3f",
   "metadata": {},
   "outputs": [],
   "source": [
    "import lightgbm as lgb\n",
    "train_ds = lgb.Dataset(x_train, label = y_train)\n",
    "val_ds = lgb.Dataset(x_valid, label = y_valid)"
   ]
  },
  {
   "cell_type": "code",
   "execution_count": 34,
   "id": "649e6c93",
   "metadata": {
    "scrolled": true
   },
   "outputs": [
    {
     "name": "stdout",
     "output_type": "stream",
     "text": [
      "[LightGBM] [Warning] objective is set=binary, application=binary will be ignored. Current value: objective=binary\n",
      "[LightGBM] [Warning] objective is set=binary, application=binary will be ignored. Current value: objective=binary\n",
      "[LightGBM] [Warning] Auto-choosing row-wise multi-threading, the overhead of testing was 0.348850 seconds.\n",
      "You can set `force_row_wise=true` to remove the overhead.\n",
      "And if memory is not enough, you can set `force_col_wise=true`.\n",
      "[LightGBM] [Warning] objective is set=binary, application=binary will be ignored. Current value: objective=binary\n",
      "[5]\tvalid_0's auc: 0.690221\n",
      "[10]\tvalid_0's auc: 0.702979\n",
      "[15]\tvalid_0's auc: 0.712748\n",
      "[20]\tvalid_0's auc: 0.720155\n",
      "[25]\tvalid_0's auc: 0.724743\n",
      "[30]\tvalid_0's auc: 0.730038\n",
      "[35]\tvalid_0's auc: 0.733012\n",
      "[40]\tvalid_0's auc: 0.736778\n",
      "[45]\tvalid_0's auc: 0.740253\n",
      "[50]\tvalid_0's auc: 0.743263\n",
      "[55]\tvalid_0's auc: 0.745729\n",
      "[60]\tvalid_0's auc: 0.748556\n",
      "[65]\tvalid_0's auc: 0.751786\n",
      "[70]\tvalid_0's auc: 0.753929\n",
      "[75]\tvalid_0's auc: 0.756063\n",
      "[80]\tvalid_0's auc: 0.757455\n",
      "[85]\tvalid_0's auc: 0.759309\n",
      "[90]\tvalid_0's auc: 0.761446\n",
      "[95]\tvalid_0's auc: 0.762946\n",
      "[100]\tvalid_0's auc: 0.764235\n",
      "[105]\tvalid_0's auc: 0.76533\n",
      "[110]\tvalid_0's auc: 0.766348\n",
      "[115]\tvalid_0's auc: 0.767403\n",
      "[120]\tvalid_0's auc: 0.768239\n",
      "[125]\tvalid_0's auc: 0.769228\n",
      "[130]\tvalid_0's auc: 0.770723\n",
      "[135]\tvalid_0's auc: 0.772448\n",
      "[140]\tvalid_0's auc: 0.773778\n",
      "[145]\tvalid_0's auc: 0.774315\n",
      "[150]\tvalid_0's auc: 0.775408\n",
      "[155]\tvalid_0's auc: 0.776057\n",
      "[160]\tvalid_0's auc: 0.776562\n",
      "[165]\tvalid_0's auc: 0.777515\n",
      "[170]\tvalid_0's auc: 0.777997\n",
      "[175]\tvalid_0's auc: 0.778564\n",
      "[180]\tvalid_0's auc: 0.778954\n",
      "[185]\tvalid_0's auc: 0.779479\n",
      "[190]\tvalid_0's auc: 0.779977\n",
      "[195]\tvalid_0's auc: 0.780402\n",
      "[200]\tvalid_0's auc: 0.78078\n",
      "[205]\tvalid_0's auc: 0.781537\n",
      "[210]\tvalid_0's auc: 0.782588\n",
      "[215]\tvalid_0's auc: 0.782921\n",
      "[220]\tvalid_0's auc: 0.78332\n",
      "[225]\tvalid_0's auc: 0.78362\n",
      "[230]\tvalid_0's auc: 0.783928\n",
      "[235]\tvalid_0's auc: 0.784192\n",
      "[240]\tvalid_0's auc: 0.784479\n",
      "[245]\tvalid_0's auc: 0.784986\n",
      "[250]\tvalid_0's auc: 0.785323\n",
      "[255]\tvalid_0's auc: 0.785703\n",
      "[260]\tvalid_0's auc: 0.785994\n",
      "[265]\tvalid_0's auc: 0.786253\n",
      "[270]\tvalid_0's auc: 0.786878\n",
      "[275]\tvalid_0's auc: 0.78716\n",
      "[280]\tvalid_0's auc: 0.787704\n",
      "[285]\tvalid_0's auc: 0.788086\n",
      "[290]\tvalid_0's auc: 0.788429\n",
      "[295]\tvalid_0's auc: 0.788682\n",
      "[300]\tvalid_0's auc: 0.789168\n",
      "[305]\tvalid_0's auc: 0.789682\n",
      "[310]\tvalid_0's auc: 0.790206\n",
      "[315]\tvalid_0's auc: 0.790371\n",
      "[320]\tvalid_0's auc: 0.79085\n",
      "[325]\tvalid_0's auc: 0.791261\n",
      "[330]\tvalid_0's auc: 0.791798\n",
      "[335]\tvalid_0's auc: 0.791994\n",
      "[340]\tvalid_0's auc: 0.792235\n",
      "[345]\tvalid_0's auc: 0.792322\n",
      "[350]\tvalid_0's auc: 0.792665\n",
      "[355]\tvalid_0's auc: 0.793029\n",
      "[360]\tvalid_0's auc: 0.793273\n",
      "[365]\tvalid_0's auc: 0.793593\n",
      "[370]\tvalid_0's auc: 0.793964\n",
      "[375]\tvalid_0's auc: 0.794471\n",
      "[380]\tvalid_0's auc: 0.794615\n",
      "[385]\tvalid_0's auc: 0.794891\n",
      "[390]\tvalid_0's auc: 0.795238\n",
      "[395]\tvalid_0's auc: 0.795488\n",
      "[400]\tvalid_0's auc: 0.795658\n",
      "[405]\tvalid_0's auc: 0.795716\n",
      "[410]\tvalid_0's auc: 0.796081\n",
      "[415]\tvalid_0's auc: 0.796427\n",
      "[420]\tvalid_0's auc: 0.796614\n",
      "[425]\tvalid_0's auc: 0.796777\n",
      "[430]\tvalid_0's auc: 0.796918\n",
      "[435]\tvalid_0's auc: 0.797233\n",
      "[440]\tvalid_0's auc: 0.797264\n",
      "[445]\tvalid_0's auc: 0.797245\n",
      "[450]\tvalid_0's auc: 0.797383\n",
      "[455]\tvalid_0's auc: 0.797387\n",
      "[460]\tvalid_0's auc: 0.797651\n",
      "[465]\tvalid_0's auc: 0.797734\n",
      "[470]\tvalid_0's auc: 0.797867\n",
      "[475]\tvalid_0's auc: 0.798001\n",
      "[480]\tvalid_0's auc: 0.7981\n",
      "[485]\tvalid_0's auc: 0.798309\n",
      "[490]\tvalid_0's auc: 0.798492\n",
      "[495]\tvalid_0's auc: 0.798714\n",
      "[500]\tvalid_0's auc: 0.798952\n"
     ]
    },
    {
     "data": {
      "text/plain": [
       "array([0.45462102, 0.17536851, 0.10281691, ..., 0.15467648, 0.35248726,\n",
       "       0.26135072])"
      ]
     },
     "execution_count": 34,
     "metadata": {},
     "output_type": "execute_result"
    }
   ],
   "source": [
    "params = {\n",
    "    'application' : 'binary',\n",
    "    'objective' : 'binary',\n",
    "    'metric' : 'auc',\n",
    "    'is_unbalance' : 'true',\n",
    "    'boosting' : 'gbdt',\n",
    "    'num_leaves' : 216,\n",
    "    'feature_fraction' : 0.9,\n",
    "    'feature_fraction_seed' : 1,\n",
    "    'bagging_fraction' : 0.95,\n",
    "    'bagging_freq' : 1,\n",
    "    'bagging_seed' : 1,\n",
    "    'learning_rate' : 0.3,\n",
    "    'verbose' : 0,\n",
    "    'max_bin' : 510,\n",
    "    'max_depth': 20,\n",
    "    'num_rounds': 500,\n",
    "}\n",
    "\n",
    "lgb_model0 = lgb.train(params, train_ds, valid_sets = val_ds, verbose_eval=5)\n",
    "\n",
    "lgb_pred0 = lgb_model0.predict(x_valid)\n",
    "lgb_pred0"
   ]
  },
  {
   "cell_type": "markdown",
   "id": "557c0d48",
   "metadata": {},
   "source": [
    "## submission - baseline"
   ]
  },
  {
   "cell_type": "code",
   "execution_count": 35,
   "id": "791fda2a",
   "metadata": {},
   "outputs": [
    {
     "name": "stdout",
     "output_type": "stream",
     "text": [
      "<class 'pandas.core.frame.DataFrame'>\n",
      "Int64Index: 2556790 entries, 0 to 2556789\n",
      "Data columns (total 22 columns):\n",
      " #   Column              Dtype\n",
      "---  ------              -----\n",
      " 0   msno                int32\n",
      " 1   song_id             int32\n",
      " 2   source_system_tab   int32\n",
      " 3   source_screen_name  int32\n",
      " 4   source_type         int32\n",
      " 5   song_length         int64\n",
      " 6   genre_ids           int32\n",
      " 7   artist_name         int32\n",
      " 8   composer            int32\n",
      " 9   lyricist            int32\n",
      " 10  language            int64\n",
      " 11  city                int64\n",
      " 12  bd                  int64\n",
      " 13  gender              int32\n",
      " 14  registered_via      int64\n",
      " 15  registration_year   int64\n",
      " 16  registration_month  int64\n",
      " 17  registration_day    int64\n",
      " 18  expiration_year     int64\n",
      " 19  expiration_month    int64\n",
      " 20  expiration_day      int64\n",
      " 21  song_year           int64\n",
      "dtypes: int32(10), int64(12)\n",
      "memory usage: 351.1 MB\n"
     ]
    }
   ],
   "source": [
    "#df_test에서 df에 없는 컬럼인 id 제거 -> 예측 진행할 때 shape 맞추기 위해\n",
    "df_test0 = df_test.drop('id', axis=1)\n",
    "df_test0.info()"
   ]
  },
  {
   "cell_type": "code",
   "execution_count": 36,
   "id": "3f800ada",
   "metadata": {},
   "outputs": [
    {
     "data": {
      "text/plain": [
       "array([0.45837558, 0.22006245, 0.03386883, ..., 0.07144552, 0.18526736,\n",
       "       0.21709147])"
      ]
     },
     "execution_count": 36,
     "metadata": {},
     "output_type": "execute_result"
    }
   ],
   "source": [
    "pred = lgb_model0.predict(df_test0)\n",
    "pred"
   ]
  },
  {
   "cell_type": "code",
   "execution_count": 37,
   "id": "f0255071",
   "metadata": {},
   "outputs": [
    {
     "data": {
      "text/plain": [
       "0.266700    3\n",
       "0.045330    3\n",
       "0.159085    3\n",
       "0.258381    3\n",
       "0.333749    3\n",
       "           ..\n",
       "0.082171    1\n",
       "0.082171    1\n",
       "0.082171    1\n",
       "0.082171    1\n",
       "0.965538    1\n",
       "Length: 2556232, dtype: int64"
      ]
     },
     "execution_count": 37,
     "metadata": {},
     "output_type": "execute_result"
    }
   ],
   "source": [
    "#value_counts() 확인\n",
    "d=pd.DataFrame(pred)\n",
    "d.value_counts()"
   ]
  },
  {
   "cell_type": "code",
   "execution_count": 38,
   "id": "75b47543",
   "metadata": {},
   "outputs": [
    {
     "data": {
      "text/html": [
       "<div>\n",
       "<style scoped>\n",
       "    .dataframe tbody tr th:only-of-type {\n",
       "        vertical-align: middle;\n",
       "    }\n",
       "\n",
       "    .dataframe tbody tr th {\n",
       "        vertical-align: top;\n",
       "    }\n",
       "\n",
       "    .dataframe thead th {\n",
       "        text-align: right;\n",
       "    }\n",
       "</style>\n",
       "<table border=\"1\" class=\"dataframe\">\n",
       "  <thead>\n",
       "    <tr style=\"text-align: right;\">\n",
       "      <th></th>\n",
       "      <th>id</th>\n",
       "      <th>target</th>\n",
       "    </tr>\n",
       "  </thead>\n",
       "  <tbody>\n",
       "    <tr>\n",
       "      <th>0</th>\n",
       "      <td>0</td>\n",
       "      <td>0.458376</td>\n",
       "    </tr>\n",
       "    <tr>\n",
       "      <th>1</th>\n",
       "      <td>1</td>\n",
       "      <td>0.220062</td>\n",
       "    </tr>\n",
       "    <tr>\n",
       "      <th>2</th>\n",
       "      <td>2</td>\n",
       "      <td>0.033869</td>\n",
       "    </tr>\n",
       "    <tr>\n",
       "      <th>3</th>\n",
       "      <td>3</td>\n",
       "      <td>0.017055</td>\n",
       "    </tr>\n",
       "    <tr>\n",
       "      <th>4</th>\n",
       "      <td>4</td>\n",
       "      <td>0.030346</td>\n",
       "    </tr>\n",
       "  </tbody>\n",
       "</table>\n",
       "</div>"
      ],
      "text/plain": [
       "   id    target\n",
       "0   0  0.458376\n",
       "1   1  0.220062\n",
       "2   2  0.033869\n",
       "3   3  0.017055\n",
       "4   4  0.030346"
      ]
     },
     "execution_count": 38,
     "metadata": {},
     "output_type": "execute_result"
    }
   ],
   "source": [
    "sub['target']=pred\n",
    "sub.head()"
   ]
  },
  {
   "cell_type": "code",
   "execution_count": 39,
   "id": "011523a6",
   "metadata": {},
   "outputs": [],
   "source": [
    "sub.to_csv('sub.csv', index=False)"
   ]
  },
  {
   "cell_type": "code",
   "execution_count": 40,
   "id": "ca81a5f4",
   "metadata": {},
   "outputs": [
    {
     "data": {
      "text/html": [
       "<div>\n",
       "<style scoped>\n",
       "    .dataframe tbody tr th:only-of-type {\n",
       "        vertical-align: middle;\n",
       "    }\n",
       "\n",
       "    .dataframe tbody tr th {\n",
       "        vertical-align: top;\n",
       "    }\n",
       "\n",
       "    .dataframe thead th {\n",
       "        text-align: right;\n",
       "    }\n",
       "</style>\n",
       "<table border=\"1\" class=\"dataframe\">\n",
       "  <thead>\n",
       "    <tr style=\"text-align: right;\">\n",
       "      <th></th>\n",
       "      <th>id</th>\n",
       "      <th>target</th>\n",
       "    </tr>\n",
       "  </thead>\n",
       "  <tbody>\n",
       "    <tr>\n",
       "      <th>0</th>\n",
       "      <td>0</td>\n",
       "      <td>0.458376</td>\n",
       "    </tr>\n",
       "    <tr>\n",
       "      <th>1</th>\n",
       "      <td>1</td>\n",
       "      <td>0.220062</td>\n",
       "    </tr>\n",
       "    <tr>\n",
       "      <th>2</th>\n",
       "      <td>2</td>\n",
       "      <td>0.033869</td>\n",
       "    </tr>\n",
       "    <tr>\n",
       "      <th>3</th>\n",
       "      <td>3</td>\n",
       "      <td>0.017055</td>\n",
       "    </tr>\n",
       "    <tr>\n",
       "      <th>4</th>\n",
       "      <td>4</td>\n",
       "      <td>0.030346</td>\n",
       "    </tr>\n",
       "    <tr>\n",
       "      <th>...</th>\n",
       "      <td>...</td>\n",
       "      <td>...</td>\n",
       "    </tr>\n",
       "    <tr>\n",
       "      <th>2556785</th>\n",
       "      <td>2556785</td>\n",
       "      <td>0.053919</td>\n",
       "    </tr>\n",
       "    <tr>\n",
       "      <th>2556786</th>\n",
       "      <td>2556786</td>\n",
       "      <td>0.130720</td>\n",
       "    </tr>\n",
       "    <tr>\n",
       "      <th>2556787</th>\n",
       "      <td>2556787</td>\n",
       "      <td>0.071446</td>\n",
       "    </tr>\n",
       "    <tr>\n",
       "      <th>2556788</th>\n",
       "      <td>2556788</td>\n",
       "      <td>0.185267</td>\n",
       "    </tr>\n",
       "    <tr>\n",
       "      <th>2556789</th>\n",
       "      <td>2556789</td>\n",
       "      <td>0.217091</td>\n",
       "    </tr>\n",
       "  </tbody>\n",
       "</table>\n",
       "<p>2556790 rows × 2 columns</p>\n",
       "</div>"
      ],
      "text/plain": [
       "              id    target\n",
       "0              0  0.458376\n",
       "1              1  0.220062\n",
       "2              2  0.033869\n",
       "3              3  0.017055\n",
       "4              4  0.030346\n",
       "...          ...       ...\n",
       "2556785  2556785  0.053919\n",
       "2556786  2556786  0.130720\n",
       "2556787  2556787  0.071446\n",
       "2556788  2556788  0.185267\n",
       "2556789  2556789  0.217091\n",
       "\n",
       "[2556790 rows x 2 columns]"
      ]
     },
     "execution_count": 40,
     "metadata": {},
     "output_type": "execute_result"
    }
   ],
   "source": [
    "sub"
   ]
  },
  {
   "cell_type": "markdown",
   "id": "da42bceb",
   "metadata": {},
   "source": [
    "# 성능향상 #1"
   ]
  },
  {
   "cell_type": "markdown",
   "id": "495f0993",
   "metadata": {},
   "source": [
    "## 데이터 로드 후 합치기"
   ]
  },
  {
   "cell_type": "code",
   "execution_count": 4,
   "id": "17de1746",
   "metadata": {},
   "outputs": [],
   "source": [
    "X_train=pd.read_csv(\"train.csv\")\n",
    "X_test=pd.read_csv(\"test.csv\")\n",
    "song=pd.read_csv(\"songs.csv\")\n",
    "member=pd.read_csv(\"members.csv\", parse_dates=['registration_init_time','expiration_date'])\n",
    "song_info = pd.read_csv(\"song_extra_info.csv\")\n",
    "sub = pd.read_csv(\"sample_submission.csv\")"
   ]
  },
  {
   "cell_type": "code",
   "execution_count": 5,
   "id": "5f599366",
   "metadata": {},
   "outputs": [],
   "source": [
    "# train\n",
    "df = X_train\n",
    "\n",
    "# test\n",
    "df_test = X_test\n",
    "\n",
    "# songs.csv파일을 [song_id]로 left join\n",
    "# train\n",
    "df = pd.merge(df, song, on='song_id', how='left')\n",
    "# test\n",
    "df_test = pd.merge(df_test, song, on='song_id', how='left')\n",
    "\n",
    "# members.csv 파일을 [msno]로 left join\n",
    "# train\n",
    "df=pd.merge(df, member, on='msno', how='left')\n",
    "# test\n",
    "df_test=pd.merge(df_test, member, on='msno', how='left')\n",
    "\n",
    "# song_extra_info.csv 파일을 song_id로 left join\n",
    "# train\n",
    "df=pd.merge(df, song_info, on='song_id', how='left')\n",
    "# test\n",
    "df_test=pd.merge(df_test, song_info, on='song_id', how='left')\n"
   ]
  },
  {
   "cell_type": "markdown",
   "id": "faeb4acf",
   "metadata": {},
   "source": [
    "## 파생피처 추가 \n",
    "=> 멤머십 등록 및 만료 날짜 컬럼을 통해, 연도/월/일 파생피처, 멤버십 기간 파생피처 생성"
   ]
  },
  {
   "cell_type": "code",
   "execution_count": 7,
   "id": "d91980cc",
   "metadata": {},
   "outputs": [],
   "source": [
    "# train\n",
    "# 등록 날짜 분리해서 피처 추가\n",
    "df['registration_year'] = df['registration_init_time'].apply(lambda x:int(str(x)[0:4]))\n",
    "df['registration_month'] = df['registration_init_time'].apply(lambda x:int(str(x)[5:7]))\n",
    "df['registration_day'] = df['registration_init_time'].apply(lambda x:int(str(x)[8:10]))\n",
    "\n",
    "# 만료 날짜 분리해서 피처 추가\n",
    "df['expiration_year'] = df['expiration_date'].apply(lambda x:int(str(x)[0:4]))\n",
    "df['expiration_month'] = df['expiration_date'].apply(lambda x:int(str(x)[5:7]))\n",
    "df['expiration_day'] = df['expiration_date'].apply(lambda x:int(str(x)[8:10]))\n",
    "\n",
    "# 멤버십 기간 피처 추가\n",
    "df['membership_days'] = df['expiration_date'].subtract(df['registration_init_time']).dt.days.astype(int)\n",
    "\n",
    "\n",
    "df=df.drop(['registration_init_time'], axis=1)\n",
    "df=df.drop(['expiration_date'], axis=1)\n",
    "\n",
    "# test\n",
    "# 등록 날짜 분리해서 피처 추가\n",
    "df_test['registration_year'] = df_test['registration_init_time'].apply(lambda x:int(str(x)[0:4]))\n",
    "df_test['registration_month'] = df_test['registration_init_time'].apply(lambda x:int(str(x)[5:7]))\n",
    "df_test['registration_day'] = df_test['registration_init_time'].apply(lambda x:int(str(x)[8:10]))\n",
    "\n",
    "# 만료 날짜 분리해서 피처 추가\n",
    "df_test['expiration_year'] = df_test['expiration_date'].apply(lambda x:int(str(x)[0:4]))\n",
    "df_test['expiration_month'] = df_test['expiration_date'].apply(lambda x:int(str(x)[5:7]))\n",
    "df_test['expiration_day'] = df_test['expiration_date'].apply(lambda x:int(str(x)[8:10]))\n",
    "\n",
    "# 멤버십 기간 피처 추가\n",
    "df_test['membership_days'] = df_test['expiration_date'].subtract(df_test['registration_init_time']).dt.days.astype(int)\n",
    "\n",
    "\n",
    "df_test=df_test.drop(['registration_init_time'], axis=1)\n",
    "df_test=df_test.drop(['expiration_date'], axis=1)"
   ]
  },
  {
   "cell_type": "code",
   "execution_count": 8,
   "id": "ad16ad6f",
   "metadata": {},
   "outputs": [],
   "source": [
    "# isrc에서 년도 추출해 곡 등록 년도 피처 생성\n",
    "def isrc_to_year(isrc):\n",
    "    if type(isrc)==str:\n",
    "        if int(isrc[5:7])>17:\n",
    "            return 1900+int(isrc[5:7])\n",
    "        else:\n",
    "            return 2000+int(isrc[5:7])\n",
    "    else:\n",
    "        return np.nan\n",
    "    \n",
    "    \n",
    "df['song_year']=df['isrc'].apply(isrc_to_year)\n",
    "df_test['song_year']=df['isrc'].apply(isrc_to_year)"
   ]
  },
  {
   "cell_type": "code",
   "execution_count": 9,
   "id": "4167ca3e",
   "metadata": {},
   "outputs": [],
   "source": [
    "# 해당 곡의 장르 수 피처 생성 (genre_count)\n",
    "def genre_count(genre):\n",
    "    if genre == 'no_genre_ids':\n",
    "        return 0\n",
    "    else :\n",
    "        return genre.count('|') + 1\n",
    "\n",
    "df['genre_ids'].fillna('no_genre_ids' , inplace= True)\n",
    "df['genre_ids_count'] = df['genre_ids'].apply(lambda x: genre_count(x)).astype(np.int8)\n",
    "df_test['genre_ids'].fillna('no_genre_ids' , inplace= True)\n",
    "df_test['genre_ids_count'] = df_test['genre_ids'].apply(lambda x: genre_count(x)).astype(np.int8)"
   ]
  },
  {
   "cell_type": "code",
   "execution_count": 10,
   "id": "a1566fb2",
   "metadata": {},
   "outputs": [],
   "source": [
    "# 해당 곡 피처링 여부 컬럼 생성 (is_featured)\n",
    "def is_featured(art) :\n",
    "    if 'feat' in str(art) :\n",
    "        return 1\n",
    "    return 0\n",
    "\n",
    "df['artist_name'].fillna('no_artist', inplace = True)\n",
    "df_test['artist_name'].fillna('no_artist', inplace = True)\n",
    "df['is_featured'] = df['artist_name'].apply(is_featured).astype(np.int8)\n",
    "df_test['is_featured'] = df_test['artist_name'].apply(is_featured).astype(np.int8)\n",
    "\n",
    "# 해당 곡의 아티스트 수 피처 생성 (artist_count)\n",
    "def artist_count(x):\n",
    "    if x == 'no_artist':\n",
    "        return 0\n",
    "    else:\n",
    "        return x.count('and') + x.count(',') + x.count('feat') + x.count('&')+ x.count('|')+ x.count('/') + x.count('//') + x.count(';')+ 1\n",
    "\n",
    "df['artist_count'] = df['artist_name'].apply(artist_count).astype(np.int8)\n",
    "df_test['artist_count'] = df_test['artist_name'].apply(artist_count).astype(np.int8)"
   ]
  },
  {
   "cell_type": "code",
   "execution_count": 11,
   "id": "be42c41e",
   "metadata": {},
   "outputs": [],
   "source": [
    "# 해당 곡의 작곡가 수 피처 생성 (composer_count)\n",
    "def composer_count(x):\n",
    "    if x == 'no_composer':\n",
    "        return 0\n",
    "    else:\n",
    "        return sum(map(x.count, ['|', '/', '\\\\', ';'])) + 1\n",
    "\n",
    "df['composer'].fillna('no_composer',inplace=True)\n",
    "df_test['composer'].fillna('no_composer',inplace=True)\n",
    "df['composer_count'] = df['composer'].apply(composer_count).astype(np.int8)\n",
    "df_test['composer_count'] = df_test['composer'].apply(composer_count).astype(np.int8)\n",
    "\n",
    "\n",
    "# 해당 곡의 작사가 수 피처 생성 (lyricist_count)\n",
    "def lyricist_count(x):\n",
    "    if x == 'no_lyricist':\n",
    "        return 0\n",
    "    else:\n",
    "        return sum(map(x.count, ['|', '/', '\\\\', ';'])) + 1\n",
    "    return sum(map(x.count, ['|', '/', '\\\\', ';']))\n",
    "\n",
    "df['lyricist'].fillna('no_lyricist',inplace=True)\n",
    "df_test['lyricist'].fillna('no_lyricist',inplace=True)\n",
    "df['lyricists_count'] = df['lyricist'].apply(lyricist_count).astype(np.int8)\n",
    "df_test['lyricists_count'] = df_test['lyricist'].apply(lyricist_count).astype(np.int8)"
   ]
  },
  {
   "cell_type": "code",
   "execution_count": 12,
   "id": "d4d88e53",
   "metadata": {},
   "outputs": [],
   "source": [
    "# 해당 곡의 아티스트가 작곡가인 경우 (artist_composer)\n",
    "df['artist_composer'] = (df['artist_name'] == df['composer']).astype(np.int8)\n",
    "df_test['artist_composer'] = (df_test['artist_name'] == df_test['composer']).astype(np.int8)\n",
    "\n",
    "\n",
    "# 해당 곡의 아티스트가 작곡가이면서 작사가인 경우 (싱어송라이터) (artist_composer_lyricist)\n",
    "df['artist_composer_lyricist'] = ((df['artist_name'] == df['composer']) & (df['artist_name'] == df['lyricist']) & (df['composer'] == df['lyricist'])).astype(np.int8)\n",
    "df_test['artist_composer_lyricist'] = ((df_test['artist_name'] == df_test['composer']) & (df_test['artist_name'] == df_test['lyricist']) & (df_test['composer'] == df_test['lyricist'])).astype(np.int8)"
   ]
  },
  {
   "cell_type": "code",
   "execution_count": 13,
   "id": "feb9741a",
   "metadata": {},
   "outputs": [],
   "source": [
    "# song이 평균보다 긴지 안긴지\n",
    "_mean_song_length = np.mean(df['song_length'])\n",
    "def smaller_song(x):\n",
    "    if x < _mean_song_length:\n",
    "        return 1\n",
    "    return 0\n",
    "\n",
    "df['smaller_song'] = df['song_length'].apply(smaller_song).astype(np.int8)\n",
    "df_test['smaller_song'] = df_test['song_length'].apply(smaller_song).astype(np.int8)"
   ]
  },
  {
   "cell_type": "code",
   "execution_count": 14,
   "id": "aa1a983b",
   "metadata": {},
   "outputs": [],
   "source": [
    "# 해당 곡이 데이터셋에서 얼마나 Play되었는지에 대한 피처 생성 (play_count_song)\n",
    "dict_count_song_played_train = {k: v for k, v in df['song_id'].value_counts().iteritems()}\n",
    "dict_count_song_played_test = {k: v for k, v in df_test['song_id'].value_counts().iteritems()}\n",
    "def return_number_played(x):\n",
    "    try:\n",
    "        return dict_count_song_played_train[x]\n",
    "    except KeyError:\n",
    "        try:\n",
    "            return dict_count_song_played_test[x]\n",
    "        except KeyError:\n",
    "            return 0\n",
    "df['play_count_song'] = df['song_id'].apply(lambda x: return_number_played(x))\n",
    "df_test['play_count_song'] = df_test['song_id'].apply(lambda x: return_number_played(x))"
   ]
  },
  {
   "cell_type": "code",
   "execution_count": 15,
   "id": "db1ec1c5",
   "metadata": {},
   "outputs": [],
   "source": [
    "# 해당 유저가 데이터셋에서 얼마나 Play했는지에 대한 피처 생성 (play_count_msno)\n",
    "dict_user_activity = {k:v for k,v in pd.concat([df['msno'] , df_test['msno']] , axis = 0).value_counts().iteritems()}\n",
    "\n",
    "def return_user_activity(x):\n",
    "    try:\n",
    "        return dict_user_activity[x]\n",
    "    except KeyError:\n",
    "        return 0\n",
    "    \n",
    "df['play_count_msno'] = df['msno'].apply(lambda x: return_user_activity(x))\n",
    "df_test['play_count_msno'] = df_test['msno'].apply(lambda x: return_user_activity(x))"
   ]
  },
  {
   "cell_type": "code",
   "execution_count": 16,
   "id": "5b7588e7",
   "metadata": {},
   "outputs": [],
   "source": [
    "# 해당 곡의 아티스트가 데이터셋에서 얼마나 Play되었는지에 대한 피처 생성 (play_count_artist)\n",
    "_dict_count_artist_played_train = {k: v for k, v in df['artist_name'].value_counts().iteritems()}\n",
    "_dict_count_artist_played_test = {k: v for k, v in df_test['artist_name'].value_counts().iteritems()}\n",
    "def count_artist_played(x):\n",
    "    try:\n",
    "        return _dict_count_artist_played_train[x]\n",
    "    except KeyError:\n",
    "        try:\n",
    "            return _dict_count_artist_played_test[x]\n",
    "        except KeyError:\n",
    "            return 0\n",
    "\n",
    "df['play_count_artist'] = df['artist_name'].apply(count_artist_played).astype(np.int64)\n",
    "df_test['play_count_artist'] = df_test['artist_name'].apply(count_artist_played).astype(np.int64)"
   ]
  },
  {
   "cell_type": "code",
   "execution_count": 17,
   "id": "d04d7c17",
   "metadata": {},
   "outputs": [
    {
     "name": "stdout",
     "output_type": "stream",
     "text": [
      "<class 'pandas.core.frame.DataFrame'>\n",
      "Int64Index: 7377418 entries, 0 to 7377417\n",
      "Data columns (total 37 columns):\n",
      " #   Column                    Dtype  \n",
      "---  ------                    -----  \n",
      " 0   msno                      object \n",
      " 1   song_id                   object \n",
      " 2   source_system_tab         object \n",
      " 3   source_screen_name        object \n",
      " 4   source_type               object \n",
      " 5   target                    int64  \n",
      " 6   song_length               float64\n",
      " 7   genre_ids                 object \n",
      " 8   artist_name               object \n",
      " 9   composer                  object \n",
      " 10  lyricist                  object \n",
      " 11  language                  float64\n",
      " 12  city                      int64  \n",
      " 13  bd                        int64  \n",
      " 14  gender                    object \n",
      " 15  registered_via            int64  \n",
      " 16  name                      object \n",
      " 17  isrc                      object \n",
      " 18  registration_year         int64  \n",
      " 19  registration_month        int64  \n",
      " 20  registration_day          int64  \n",
      " 21  expiration_year           int64  \n",
      " 22  expiration_month          int64  \n",
      " 23  expiration_day            int64  \n",
      " 24  membership_days           int32  \n",
      " 25  song_year                 float64\n",
      " 26  genre_ids_count           int8   \n",
      " 27  is_featured               int8   \n",
      " 28  artist_count              int8   \n",
      " 29  composer_count            int8   \n",
      " 30  lyricists_count           int8   \n",
      " 31  artist_composer           int8   \n",
      " 32  artist_composer_lyricist  int8   \n",
      " 33  smaller_song              int8   \n",
      " 34  play_count_song           int64  \n",
      " 35  play_count_msno           int64  \n",
      " 36  play_count_artist         int64  \n",
      "dtypes: float64(3), int32(1), int64(13), int8(8), object(12)\n",
      "memory usage: 1.9+ GB\n"
     ]
    }
   ],
   "source": [
    "df.info()"
   ]
  },
  {
   "cell_type": "markdown",
   "id": "8862c7f7",
   "metadata": {},
   "source": [
    "## 결측치 처리"
   ]
  },
  {
   "cell_type": "code",
   "execution_count": 18,
   "id": "ac2ea375",
   "metadata": {},
   "outputs": [],
   "source": [
    "#song_length, language, song_year\n",
    "df['song_length'].fillna(df['song_length'].mean() , inplace = True)\n",
    "df['song_length'] = df['song_length'].astype(np.uint32)\n",
    "df['language'].fillna(df['language'].mode().values[0] , inplace= True)\n",
    "df['language'] = df['language'].astype(np.int8)\n",
    "df['song_year'].fillna(1917, inplace = True)\n",
    "df['song_year'] = df['song_year'].astype(np.int8)\n",
    "\n",
    "df_test['song_length'].fillna(df_test['song_length'].mean() , inplace = True)\n",
    "df_test['song_length'] = df_test['song_length'].astype(np.uint32)\n",
    "df_test['language'].fillna(df_test['language'].mode().values[0] , inplace= True)\n",
    "df_test['language'] = df_test['language'].astype(np.int8)\n",
    "df_test['song_year'].fillna(1917, inplace = True)\n",
    "df_test['song_year'] = df_test['song_year'].astype(np.int8)"
   ]
  },
  {
   "cell_type": "code",
   "execution_count": 20,
   "id": "e9270e46",
   "metadata": {},
   "outputs": [],
   "source": [
    "# String Null 일 경우, 'Unknown'\n",
    "for col in df.select_dtypes(include=['object']).columns:\n",
    "    df[col] = df[col].fillna(value = \"unknown\")\n",
    "    \n",
    "# Numerics Null 일 경우, mean    \n",
    "for col in df.select_dtypes(exclude=['object']).columns:\n",
    "    df[col] = df[col].fillna(value = df[col].mean())\n",
    "    \n",
    "    \n",
    "# 결측치 채우기 - df_test\n",
    "\n",
    "# String Null 일 경우, 'Unknown'\n",
    "for col in df_test.select_dtypes(include=['object']).columns:\n",
    "    df_test[col] = df_test[col].fillna(value = \"unknown\")\n",
    "    \n",
    "# Numerics Null 일 경우, mean    \n",
    "for col in df_test.select_dtypes(exclude=['object']).columns:\n",
    "    df_test[col] = df_test[col].fillna(value = df_test[col].mean())"
   ]
  },
  {
   "cell_type": "markdown",
   "id": "410671a7",
   "metadata": {},
   "source": [
    "## 이상치 처리"
   ]
  },
  {
   "cell_type": "code",
   "execution_count": 21,
   "id": "ce424306",
   "metadata": {},
   "outputs": [],
   "source": [
    "df['bd'] = df['bd'].apply(lambda x : 0 if x > 100 else abs(x))\n",
    "df_test['bd'] = df_test['bd'].apply(lambda x : 0 if x > 100 else abs(x))"
   ]
  },
  {
   "cell_type": "markdown",
   "id": "37b0f80f",
   "metadata": {},
   "source": [
    "## 필요없는 컬럼 제거"
   ]
  },
  {
   "cell_type": "code",
   "execution_count": 22,
   "id": "14beb274",
   "metadata": {},
   "outputs": [],
   "source": [
    "drop = ['isrc', 'name']"
   ]
  },
  {
   "cell_type": "code",
   "execution_count": 23,
   "id": "f7964597",
   "metadata": {},
   "outputs": [],
   "source": [
    "df.drop(columns = drop , inplace = True)\n",
    "df_test.drop(columns=drop , inplace = True)"
   ]
  },
  {
   "cell_type": "markdown",
   "id": "2e396f6b",
   "metadata": {},
   "source": [
    "## 데이터 인코딩"
   ]
  },
  {
   "cell_type": "code",
   "execution_count": 24,
   "id": "8b18debb",
   "metadata": {},
   "outputs": [],
   "source": [
    "# 이진 피처 인코딩 ('gender' 인코딩 )\n",
    "df['gender'] = df['gender'].map({'unknown':0,'female':1, 'male':2})\n",
    "df_test['gender'] = df_test['gender'].map({'unknown':0,'female':1, 'male':2})"
   ]
  },
  {
   "cell_type": "code",
   "execution_count": 25,
   "id": "2a606428",
   "metadata": {},
   "outputs": [
    {
     "data": {
      "text/html": [
       "<style>#sk-container-id-1 {color: black;background-color: white;}#sk-container-id-1 pre{padding: 0;}#sk-container-id-1 div.sk-toggleable {background-color: white;}#sk-container-id-1 label.sk-toggleable__label {cursor: pointer;display: block;width: 100%;margin-bottom: 0;padding: 0.3em;box-sizing: border-box;text-align: center;}#sk-container-id-1 label.sk-toggleable__label-arrow:before {content: \"▸\";float: left;margin-right: 0.25em;color: #696969;}#sk-container-id-1 label.sk-toggleable__label-arrow:hover:before {color: black;}#sk-container-id-1 div.sk-estimator:hover label.sk-toggleable__label-arrow:before {color: black;}#sk-container-id-1 div.sk-toggleable__content {max-height: 0;max-width: 0;overflow: hidden;text-align: left;background-color: #f0f8ff;}#sk-container-id-1 div.sk-toggleable__content pre {margin: 0.2em;color: black;border-radius: 0.25em;background-color: #f0f8ff;}#sk-container-id-1 input.sk-toggleable__control:checked~div.sk-toggleable__content {max-height: 200px;max-width: 100%;overflow: auto;}#sk-container-id-1 input.sk-toggleable__control:checked~label.sk-toggleable__label-arrow:before {content: \"▾\";}#sk-container-id-1 div.sk-estimator input.sk-toggleable__control:checked~label.sk-toggleable__label {background-color: #d4ebff;}#sk-container-id-1 div.sk-label input.sk-toggleable__control:checked~label.sk-toggleable__label {background-color: #d4ebff;}#sk-container-id-1 input.sk-hidden--visually {border: 0;clip: rect(1px 1px 1px 1px);clip: rect(1px, 1px, 1px, 1px);height: 1px;margin: -1px;overflow: hidden;padding: 0;position: absolute;width: 1px;}#sk-container-id-1 div.sk-estimator {font-family: monospace;background-color: #f0f8ff;border: 1px dotted black;border-radius: 0.25em;box-sizing: border-box;margin-bottom: 0.5em;}#sk-container-id-1 div.sk-estimator:hover {background-color: #d4ebff;}#sk-container-id-1 div.sk-parallel-item::after {content: \"\";width: 100%;border-bottom: 1px solid gray;flex-grow: 1;}#sk-container-id-1 div.sk-label:hover label.sk-toggleable__label {background-color: #d4ebff;}#sk-container-id-1 div.sk-serial::before {content: \"\";position: absolute;border-left: 1px solid gray;box-sizing: border-box;top: 0;bottom: 0;left: 50%;z-index: 0;}#sk-container-id-1 div.sk-serial {display: flex;flex-direction: column;align-items: center;background-color: white;padding-right: 0.2em;padding-left: 0.2em;position: relative;}#sk-container-id-1 div.sk-item {position: relative;z-index: 1;}#sk-container-id-1 div.sk-parallel {display: flex;align-items: stretch;justify-content: center;background-color: white;position: relative;}#sk-container-id-1 div.sk-item::before, #sk-container-id-1 div.sk-parallel-item::before {content: \"\";position: absolute;border-left: 1px solid gray;box-sizing: border-box;top: 0;bottom: 0;left: 50%;z-index: -1;}#sk-container-id-1 div.sk-parallel-item {display: flex;flex-direction: column;z-index: 1;position: relative;background-color: white;}#sk-container-id-1 div.sk-parallel-item:first-child::after {align-self: flex-end;width: 50%;}#sk-container-id-1 div.sk-parallel-item:last-child::after {align-self: flex-start;width: 50%;}#sk-container-id-1 div.sk-parallel-item:only-child::after {width: 0;}#sk-container-id-1 div.sk-dashed-wrapped {border: 1px dashed gray;margin: 0 0.4em 0.5em 0.4em;box-sizing: border-box;padding-bottom: 0.4em;background-color: white;}#sk-container-id-1 div.sk-label label {font-family: monospace;font-weight: bold;display: inline-block;line-height: 1.2em;}#sk-container-id-1 div.sk-label-container {text-align: center;}#sk-container-id-1 div.sk-container {/* jupyter's `normalize.less` sets `[hidden] { display: none; }` but bootstrap.min.css set `[hidden] { display: none !important; }` so we also need the `!important` here to be able to override the default hidden behavior on the sphinx rendered scikit-learn.org. See: https://github.com/scikit-learn/scikit-learn/issues/21755 */display: inline-block !important;position: relative;}#sk-container-id-1 div.sk-text-repr-fallback {display: none;}</style><div id=\"sk-container-id-1\" class=\"sk-top-container\"><div class=\"sk-text-repr-fallback\"><pre>LabelEncoder()</pre><b>In a Jupyter environment, please rerun this cell to show the HTML representation or trust the notebook. <br />On GitHub, the HTML representation is unable to render, please try loading this page with nbviewer.org.</b></div><div class=\"sk-container\" hidden><div class=\"sk-item\"><div class=\"sk-estimator sk-toggleable\"><input class=\"sk-toggleable__control sk-hidden--visually\" id=\"sk-estimator-id-1\" type=\"checkbox\" checked><label for=\"sk-estimator-id-1\" class=\"sk-toggleable__label sk-toggleable__label-arrow\">LabelEncoder</label><div class=\"sk-toggleable__content\"><pre>LabelEncoder()</pre></div></div></div></div></div>"
      ],
      "text/plain": [
       "LabelEncoder()"
      ]
     },
     "execution_count": 25,
     "metadata": {},
     "output_type": "execute_result"
    },
    {
     "data": {
      "text/html": [
       "<style>#sk-container-id-2 {color: black;background-color: white;}#sk-container-id-2 pre{padding: 0;}#sk-container-id-2 div.sk-toggleable {background-color: white;}#sk-container-id-2 label.sk-toggleable__label {cursor: pointer;display: block;width: 100%;margin-bottom: 0;padding: 0.3em;box-sizing: border-box;text-align: center;}#sk-container-id-2 label.sk-toggleable__label-arrow:before {content: \"▸\";float: left;margin-right: 0.25em;color: #696969;}#sk-container-id-2 label.sk-toggleable__label-arrow:hover:before {color: black;}#sk-container-id-2 div.sk-estimator:hover label.sk-toggleable__label-arrow:before {color: black;}#sk-container-id-2 div.sk-toggleable__content {max-height: 0;max-width: 0;overflow: hidden;text-align: left;background-color: #f0f8ff;}#sk-container-id-2 div.sk-toggleable__content pre {margin: 0.2em;color: black;border-radius: 0.25em;background-color: #f0f8ff;}#sk-container-id-2 input.sk-toggleable__control:checked~div.sk-toggleable__content {max-height: 200px;max-width: 100%;overflow: auto;}#sk-container-id-2 input.sk-toggleable__control:checked~label.sk-toggleable__label-arrow:before {content: \"▾\";}#sk-container-id-2 div.sk-estimator input.sk-toggleable__control:checked~label.sk-toggleable__label {background-color: #d4ebff;}#sk-container-id-2 div.sk-label input.sk-toggleable__control:checked~label.sk-toggleable__label {background-color: #d4ebff;}#sk-container-id-2 input.sk-hidden--visually {border: 0;clip: rect(1px 1px 1px 1px);clip: rect(1px, 1px, 1px, 1px);height: 1px;margin: -1px;overflow: hidden;padding: 0;position: absolute;width: 1px;}#sk-container-id-2 div.sk-estimator {font-family: monospace;background-color: #f0f8ff;border: 1px dotted black;border-radius: 0.25em;box-sizing: border-box;margin-bottom: 0.5em;}#sk-container-id-2 div.sk-estimator:hover {background-color: #d4ebff;}#sk-container-id-2 div.sk-parallel-item::after {content: \"\";width: 100%;border-bottom: 1px solid gray;flex-grow: 1;}#sk-container-id-2 div.sk-label:hover label.sk-toggleable__label {background-color: #d4ebff;}#sk-container-id-2 div.sk-serial::before {content: \"\";position: absolute;border-left: 1px solid gray;box-sizing: border-box;top: 0;bottom: 0;left: 50%;z-index: 0;}#sk-container-id-2 div.sk-serial {display: flex;flex-direction: column;align-items: center;background-color: white;padding-right: 0.2em;padding-left: 0.2em;position: relative;}#sk-container-id-2 div.sk-item {position: relative;z-index: 1;}#sk-container-id-2 div.sk-parallel {display: flex;align-items: stretch;justify-content: center;background-color: white;position: relative;}#sk-container-id-2 div.sk-item::before, #sk-container-id-2 div.sk-parallel-item::before {content: \"\";position: absolute;border-left: 1px solid gray;box-sizing: border-box;top: 0;bottom: 0;left: 50%;z-index: -1;}#sk-container-id-2 div.sk-parallel-item {display: flex;flex-direction: column;z-index: 1;position: relative;background-color: white;}#sk-container-id-2 div.sk-parallel-item:first-child::after {align-self: flex-end;width: 50%;}#sk-container-id-2 div.sk-parallel-item:last-child::after {align-self: flex-start;width: 50%;}#sk-container-id-2 div.sk-parallel-item:only-child::after {width: 0;}#sk-container-id-2 div.sk-dashed-wrapped {border: 1px dashed gray;margin: 0 0.4em 0.5em 0.4em;box-sizing: border-box;padding-bottom: 0.4em;background-color: white;}#sk-container-id-2 div.sk-label label {font-family: monospace;font-weight: bold;display: inline-block;line-height: 1.2em;}#sk-container-id-2 div.sk-label-container {text-align: center;}#sk-container-id-2 div.sk-container {/* jupyter's `normalize.less` sets `[hidden] { display: none; }` but bootstrap.min.css set `[hidden] { display: none !important; }` so we also need the `!important` here to be able to override the default hidden behavior on the sphinx rendered scikit-learn.org. See: https://github.com/scikit-learn/scikit-learn/issues/21755 */display: inline-block !important;position: relative;}#sk-container-id-2 div.sk-text-repr-fallback {display: none;}</style><div id=\"sk-container-id-2\" class=\"sk-top-container\"><div class=\"sk-text-repr-fallback\"><pre>LabelEncoder()</pre><b>In a Jupyter environment, please rerun this cell to show the HTML representation or trust the notebook. <br />On GitHub, the HTML representation is unable to render, please try loading this page with nbviewer.org.</b></div><div class=\"sk-container\" hidden><div class=\"sk-item\"><div class=\"sk-estimator sk-toggleable\"><input class=\"sk-toggleable__control sk-hidden--visually\" id=\"sk-estimator-id-2\" type=\"checkbox\" checked><label for=\"sk-estimator-id-2\" class=\"sk-toggleable__label sk-toggleable__label-arrow\">LabelEncoder</label><div class=\"sk-toggleable__content\"><pre>LabelEncoder()</pre></div></div></div></div></div>"
      ],
      "text/plain": [
       "LabelEncoder()"
      ]
     },
     "execution_count": 25,
     "metadata": {},
     "output_type": "execute_result"
    },
    {
     "data": {
      "text/html": [
       "<style>#sk-container-id-3 {color: black;background-color: white;}#sk-container-id-3 pre{padding: 0;}#sk-container-id-3 div.sk-toggleable {background-color: white;}#sk-container-id-3 label.sk-toggleable__label {cursor: pointer;display: block;width: 100%;margin-bottom: 0;padding: 0.3em;box-sizing: border-box;text-align: center;}#sk-container-id-3 label.sk-toggleable__label-arrow:before {content: \"▸\";float: left;margin-right: 0.25em;color: #696969;}#sk-container-id-3 label.sk-toggleable__label-arrow:hover:before {color: black;}#sk-container-id-3 div.sk-estimator:hover label.sk-toggleable__label-arrow:before {color: black;}#sk-container-id-3 div.sk-toggleable__content {max-height: 0;max-width: 0;overflow: hidden;text-align: left;background-color: #f0f8ff;}#sk-container-id-3 div.sk-toggleable__content pre {margin: 0.2em;color: black;border-radius: 0.25em;background-color: #f0f8ff;}#sk-container-id-3 input.sk-toggleable__control:checked~div.sk-toggleable__content {max-height: 200px;max-width: 100%;overflow: auto;}#sk-container-id-3 input.sk-toggleable__control:checked~label.sk-toggleable__label-arrow:before {content: \"▾\";}#sk-container-id-3 div.sk-estimator input.sk-toggleable__control:checked~label.sk-toggleable__label {background-color: #d4ebff;}#sk-container-id-3 div.sk-label input.sk-toggleable__control:checked~label.sk-toggleable__label {background-color: #d4ebff;}#sk-container-id-3 input.sk-hidden--visually {border: 0;clip: rect(1px 1px 1px 1px);clip: rect(1px, 1px, 1px, 1px);height: 1px;margin: -1px;overflow: hidden;padding: 0;position: absolute;width: 1px;}#sk-container-id-3 div.sk-estimator {font-family: monospace;background-color: #f0f8ff;border: 1px dotted black;border-radius: 0.25em;box-sizing: border-box;margin-bottom: 0.5em;}#sk-container-id-3 div.sk-estimator:hover {background-color: #d4ebff;}#sk-container-id-3 div.sk-parallel-item::after {content: \"\";width: 100%;border-bottom: 1px solid gray;flex-grow: 1;}#sk-container-id-3 div.sk-label:hover label.sk-toggleable__label {background-color: #d4ebff;}#sk-container-id-3 div.sk-serial::before {content: \"\";position: absolute;border-left: 1px solid gray;box-sizing: border-box;top: 0;bottom: 0;left: 50%;z-index: 0;}#sk-container-id-3 div.sk-serial {display: flex;flex-direction: column;align-items: center;background-color: white;padding-right: 0.2em;padding-left: 0.2em;position: relative;}#sk-container-id-3 div.sk-item {position: relative;z-index: 1;}#sk-container-id-3 div.sk-parallel {display: flex;align-items: stretch;justify-content: center;background-color: white;position: relative;}#sk-container-id-3 div.sk-item::before, #sk-container-id-3 div.sk-parallel-item::before {content: \"\";position: absolute;border-left: 1px solid gray;box-sizing: border-box;top: 0;bottom: 0;left: 50%;z-index: -1;}#sk-container-id-3 div.sk-parallel-item {display: flex;flex-direction: column;z-index: 1;position: relative;background-color: white;}#sk-container-id-3 div.sk-parallel-item:first-child::after {align-self: flex-end;width: 50%;}#sk-container-id-3 div.sk-parallel-item:last-child::after {align-self: flex-start;width: 50%;}#sk-container-id-3 div.sk-parallel-item:only-child::after {width: 0;}#sk-container-id-3 div.sk-dashed-wrapped {border: 1px dashed gray;margin: 0 0.4em 0.5em 0.4em;box-sizing: border-box;padding-bottom: 0.4em;background-color: white;}#sk-container-id-3 div.sk-label label {font-family: monospace;font-weight: bold;display: inline-block;line-height: 1.2em;}#sk-container-id-3 div.sk-label-container {text-align: center;}#sk-container-id-3 div.sk-container {/* jupyter's `normalize.less` sets `[hidden] { display: none; }` but bootstrap.min.css set `[hidden] { display: none !important; }` so we also need the `!important` here to be able to override the default hidden behavior on the sphinx rendered scikit-learn.org. See: https://github.com/scikit-learn/scikit-learn/issues/21755 */display: inline-block !important;position: relative;}#sk-container-id-3 div.sk-text-repr-fallback {display: none;}</style><div id=\"sk-container-id-3\" class=\"sk-top-container\"><div class=\"sk-text-repr-fallback\"><pre>LabelEncoder()</pre><b>In a Jupyter environment, please rerun this cell to show the HTML representation or trust the notebook. <br />On GitHub, the HTML representation is unable to render, please try loading this page with nbviewer.org.</b></div><div class=\"sk-container\" hidden><div class=\"sk-item\"><div class=\"sk-estimator sk-toggleable\"><input class=\"sk-toggleable__control sk-hidden--visually\" id=\"sk-estimator-id-3\" type=\"checkbox\" checked><label for=\"sk-estimator-id-3\" class=\"sk-toggleable__label sk-toggleable__label-arrow\">LabelEncoder</label><div class=\"sk-toggleable__content\"><pre>LabelEncoder()</pre></div></div></div></div></div>"
      ],
      "text/plain": [
       "LabelEncoder()"
      ]
     },
     "execution_count": 25,
     "metadata": {},
     "output_type": "execute_result"
    }
   ],
   "source": [
    "# 라벨 인코딩 (범주형 데이터)\n",
    "from sklearn.preprocessing import LabelEncoder\n",
    "\n",
    "label_encoding = ['source_system_tab', 'source_screen_name', 'source_type']\n",
    "\n",
    "for f in label_encoding:\n",
    "    lb = LabelEncoder()\n",
    "    lb.fit(list(df[f].values) + list(df_test[f].values))\n",
    "    df[f] = lb.transform(list(df[f].values))\n",
    "    df_test[f] = lb.transform(list(df_test[f].values))"
   ]
  },
  {
   "cell_type": "code",
   "execution_count": 26,
   "id": "63ea1a93",
   "metadata": {},
   "outputs": [],
   "source": [
    "# 명목형 피처 인코딩\n",
    "\n",
    "# Object data to category\n",
    "for col in df.select_dtypes(include=['object']).columns:\n",
    "    df[col] = df[col].astype('category')\n",
    "    \n",
    "# Encoding categorical features\n",
    "for col in df.select_dtypes(include=['category']).columns:\n",
    "    df[col] = df[col].cat.codes\n",
    "    \n",
    "# 데이터 인코딩 진행 - df_test\n",
    "for col in df_test.select_dtypes(include=['object']).columns:\n",
    "    df_test[col] = df_test[col].astype('category')\n",
    "    \n",
    "# Encoding categorical features\n",
    "for col in df_test.select_dtypes(include=['category']).columns:\n",
    "    df_test[col] = df_test[col].cat.codes"
   ]
  },
  {
   "cell_type": "markdown",
   "id": "da4be9c6",
   "metadata": {},
   "source": [
    "## 데이터 스케일링"
   ]
  },
  {
   "cell_type": "code",
   "execution_count": 27,
   "id": "a1309603",
   "metadata": {},
   "outputs": [],
   "source": [
    "from sklearn.preprocessing import MinMaxScaler\n",
    "\n",
    "min_max_scaling = ['song_length','membership_days',\n",
    "                   'play_count_song', 'play_count_msno', 'play_count_artist']\n",
    "\n",
    "for f in min_max_scaling :\n",
    "    ms = MinMaxScaler()\n",
    "    df[f] = ms.fit_transform(df[[f]])\n",
    "    df_test[f] = ms.transform(df_test[[f]])"
   ]
  },
  {
   "cell_type": "markdown",
   "id": "ca74b69f",
   "metadata": {},
   "source": [
    "## lightgbm"
   ]
  },
  {
   "cell_type": "code",
   "execution_count": 28,
   "id": "259e494f",
   "metadata": {},
   "outputs": [
    {
     "name": "stdout",
     "output_type": "stream",
     "text": [
      "Requirement already satisfied: lightgbm in c:\\users\\82108\\anaconda3\\lib\\site-packages (3.3.3)\n",
      "Requirement already satisfied: wheel in c:\\users\\82108\\anaconda3\\lib\\site-packages (from lightgbm) (0.37.0)\n",
      "Requirement already satisfied: scipy in c:\\users\\82108\\anaconda3\\lib\\site-packages (from lightgbm) (1.7.1)\n",
      "Requirement already satisfied: scikit-learn!=0.22.0 in c:\\users\\82108\\appdata\\roaming\\python\\python39\\site-packages (from lightgbm) (1.1.1)\n",
      "Requirement already satisfied: numpy in c:\\users\\82108\\anaconda3\\lib\\site-packages (from lightgbm) (1.20.3)\n",
      "Requirement already satisfied: joblib>=1.0.0 in c:\\users\\82108\\anaconda3\\lib\\site-packages (from scikit-learn!=0.22.0->lightgbm) (1.1.0)\n",
      "Requirement already satisfied: threadpoolctl>=2.0.0 in c:\\users\\82108\\anaconda3\\lib\\site-packages (from scikit-learn!=0.22.0->lightgbm) (2.2.0)\n",
      "Note: you may need to restart the kernel to use updated packages.\n"
     ]
    }
   ],
   "source": [
    "%pip install lightgbm"
   ]
  },
  {
   "cell_type": "code",
   "execution_count": 30,
   "id": "3a7b479c",
   "metadata": {},
   "outputs": [
    {
     "name": "stdout",
     "output_type": "stream",
     "text": [
      "[LightGBM] [Warning] Auto-choosing col-wise multi-threading, the overhead of testing was 0.692684 seconds.\n",
      "You can set `force_col_wise=true` to remove the overhead.\n",
      "[5]\ttraining's auc: 0.705896\n",
      "[10]\ttraining's auc: 0.711679\n",
      "[15]\ttraining's auc: 0.71669\n",
      "[20]\ttraining's auc: 0.72104\n",
      "[25]\ttraining's auc: 0.725218\n",
      "[30]\ttraining's auc: 0.729393\n",
      "[35]\ttraining's auc: 0.731912\n",
      "[40]\ttraining's auc: 0.734084\n",
      "[45]\ttraining's auc: 0.737171\n",
      "[50]\ttraining's auc: 0.739127\n",
      "[55]\ttraining's auc: 0.741391\n",
      "[60]\ttraining's auc: 0.743406\n",
      "[65]\ttraining's auc: 0.745281\n",
      "[70]\ttraining's auc: 0.747414\n",
      "[75]\ttraining's auc: 0.748829\n",
      "[80]\ttraining's auc: 0.75054\n",
      "[85]\ttraining's auc: 0.75191\n",
      "[90]\ttraining's auc: 0.752864\n",
      "[95]\ttraining's auc: 0.754202\n",
      "[100]\ttraining's auc: 0.755306\n",
      "[105]\ttraining's auc: 0.756207\n",
      "[110]\ttraining's auc: 0.757935\n",
      "[115]\ttraining's auc: 0.758645\n",
      "[120]\ttraining's auc: 0.759395\n",
      "[125]\ttraining's auc: 0.760704\n",
      "[130]\ttraining's auc: 0.762131\n",
      "[135]\ttraining's auc: 0.763502\n",
      "[140]\ttraining's auc: 0.764599\n",
      "[145]\ttraining's auc: 0.765385\n",
      "[150]\ttraining's auc: 0.766633\n",
      "[155]\ttraining's auc: 0.767457\n",
      "[160]\ttraining's auc: 0.768675\n",
      "[165]\ttraining's auc: 0.769654\n",
      "[170]\ttraining's auc: 0.770456\n",
      "[175]\ttraining's auc: 0.771274\n",
      "[180]\ttraining's auc: 0.771906\n",
      "[185]\ttraining's auc: 0.772762\n",
      "[190]\ttraining's auc: 0.773648\n",
      "[195]\ttraining's auc: 0.774244\n",
      "[200]\ttraining's auc: 0.774925\n",
      "Wall time: 4min 27s\n"
     ]
    }
   ],
   "source": [
    "import lightgbm as lgb\n",
    "\n",
    "# Train, Test 바로 이용 LGBM #1\n",
    "X_train = df.drop(columns = ['target'] , axis = 1)\n",
    "Y_train = df['target'].values\n",
    "X_test = df_test.drop(columns = ['id'] , axis = 1)\n",
    "ids = df_test['id'].values\n",
    "train_set = lgb.Dataset(X_train , Y_train)\n",
    "\n",
    "# 파라미터 #1 준비 \n",
    "params = {\n",
    "        'objective': 'binary',\n",
    "        'metric': 'binary_logloss',\n",
    "        'boosting': 'gbdt',\n",
    "        'learning_rate': 0.3 ,\n",
    "        'verbose': 0,\n",
    "        'num_leaves': 108,\n",
    "        'bagging_fraction': 0.95,\n",
    "        'bagging_freq': 1,\n",
    "        'bagging_seed': 1,\n",
    "        'feature_fraction': 0.9,\n",
    "        'feature_fraction_seed': 1,\n",
    "        'max_bin': 256,\n",
    "        'max_depth': 10,\n",
    "        'num_rounds': 200,\n",
    "        'metric' : 'auc'\n",
    "    }\n",
    "\n",
    "\n",
    "# LGBM 모델 #1 훈련\n",
    "%time model_f1 = lgb.train(params, train_set=train_set,  valid_sets=train_set, verbose_eval=5)"
   ]
  },
  {
   "cell_type": "markdown",
   "id": "fa409b70",
   "metadata": {},
   "source": [
    "## submission_lgb_1"
   ]
  },
  {
   "cell_type": "code",
   "execution_count": 31,
   "id": "101f08f1",
   "metadata": {},
   "outputs": [],
   "source": [
    "pred_test = model_f1.predict(X_test)\n",
    "sub = pd.DataFrame()\n",
    "sub['id'] = ids\n",
    "sub['target'] = pred_test\n",
    "sub.to_csv('sub_lgbm_1.csv' , index = False , float_format ='%.5f')"
   ]
  },
  {
   "cell_type": "code",
   "execution_count": null,
   "id": "9a8a4bdd",
   "metadata": {},
   "outputs": [],
   "source": []
  },
  {
   "cell_type": "markdown",
   "id": "087feb8c",
   "metadata": {},
   "source": [
    "# 성능향상 #2"
   ]
  },
  {
   "cell_type": "markdown",
   "id": "46d2ae05",
   "metadata": {},
   "source": [
    "## lgb_2\n",
    "- baseline에서 사용한 파라미터가 아닌 다른 하이퍼 파라미터를 적용시켜서"
   ]
  },
  {
   "cell_type": "code",
   "execution_count": 32,
   "id": "8b89c86c",
   "metadata": {},
   "outputs": [
    {
     "name": "stdout",
     "output_type": "stream",
     "text": [
      "[LightGBM] [Warning] Auto-choosing col-wise multi-threading, the overhead of testing was 0.700230 seconds.\n",
      "You can set `force_col_wise=true` to remove the overhead.\n",
      "[5]\ttraining's auc: 0.705896\n",
      "[10]\ttraining's auc: 0.710683\n",
      "[15]\ttraining's auc: 0.71463\n",
      "[20]\ttraining's auc: 0.719812\n",
      "[25]\ttraining's auc: 0.721669\n",
      "[30]\ttraining's auc: 0.725239\n",
      "[35]\ttraining's auc: 0.727358\n",
      "[40]\ttraining's auc: 0.729758\n",
      "[45]\ttraining's auc: 0.730901\n",
      "[50]\ttraining's auc: 0.730866\n",
      "[55]\ttraining's auc: 0.73266\n",
      "[60]\ttraining's auc: 0.733336\n",
      "[65]\ttraining's auc: 0.733533\n",
      "[70]\ttraining's auc: 0.733787\n",
      "[75]\ttraining's auc: 0.735111\n",
      "[80]\ttraining's auc: 0.735807\n",
      "[85]\ttraining's auc: 0.735421\n",
      "[90]\ttraining's auc: 0.735603\n",
      "[95]\ttraining's auc: 0.736006\n",
      "[100]\ttraining's auc: 0.736527\n",
      "[105]\ttraining's auc: 0.736605\n",
      "[110]\ttraining's auc: 0.736216\n",
      "[115]\ttraining's auc: 0.737255\n",
      "[120]\ttraining's auc: 0.737981\n",
      "[125]\ttraining's auc: 0.738083\n",
      "[130]\ttraining's auc: 0.739058\n",
      "[135]\ttraining's auc: 0.739782\n",
      "[140]\ttraining's auc: 0.740403\n",
      "[145]\ttraining's auc: 0.740926\n",
      "[150]\ttraining's auc: 0.740991\n",
      "[155]\ttraining's auc: 0.741245\n",
      "[160]\ttraining's auc: 0.740625\n",
      "[165]\ttraining's auc: 0.74178\n",
      "[170]\ttraining's auc: 0.742908\n",
      "[175]\ttraining's auc: 0.743904\n",
      "[180]\ttraining's auc: 0.743797\n",
      "[185]\ttraining's auc: 0.744875\n",
      "[190]\ttraining's auc: 0.745965\n",
      "[195]\ttraining's auc: 0.746882\n",
      "[200]\ttraining's auc: 0.747066\n",
      "Wall time: 10min 51s\n"
     ]
    }
   ],
   "source": [
    "# 파라미터 #2 준비\n",
    "params = {\n",
    "        'objective': 'binary',\n",
    "        'metric': 'binary_logloss',\n",
    "        'boosting': 'dart',\n",
    "        'learning_rate': 0.3 ,\n",
    "        'verbose': 0,\n",
    "        'num_leaves': 108,\n",
    "        'bagging_fraction': 0.95,\n",
    "        'bagging_freq': 1,\n",
    "        'bagging_seed': 1,\n",
    "        'feature_fraction': 0.9,\n",
    "        'feature_fraction_seed': 1,\n",
    "        'max_bin': 256,\n",
    "        'max_depth': 10,\n",
    "        'num_rounds': 200,\n",
    "        'metric' : 'auc'\n",
    "    }\n",
    "\n",
    "%time model_f2 = lgb.train(params, train_set=train_set,  valid_sets=train_set, verbose_eval=5)\n",
    "\n",
    "pred_test = model_f2.predict(X_test)\n",
    "sub = pd.DataFrame()\n",
    "sub['id'] = ids\n",
    "sub['target'] = pred_test\n",
    "sub.to_csv('sub_lgbm_2.csv' , index = False , float_format ='%.5f')"
   ]
  },
  {
   "cell_type": "markdown",
   "id": "e2e2f24a",
   "metadata": {},
   "source": [
    "## xgboost"
   ]
  },
  {
   "cell_type": "code",
   "execution_count": 33,
   "id": "dd345e0c",
   "metadata": {},
   "outputs": [
    {
     "name": "stdout",
     "output_type": "stream",
     "text": [
      "Requirement already satisfied: xgboost in c:\\users\\82108\\anaconda3\\lib\\site-packages (1.7.1)\n",
      "Requirement already satisfied: numpy in c:\\users\\82108\\anaconda3\\lib\\site-packages (from xgboost) (1.20.3)\n",
      "Requirement already satisfied: scipy in c:\\users\\82108\\anaconda3\\lib\\site-packages (from xgboost) (1.7.1)\n",
      "Note: you may need to restart the kernel to use updated packages.\n"
     ]
    }
   ],
   "source": [
    "%pip install xgboost"
   ]
  },
  {
   "cell_type": "code",
   "execution_count": 34,
   "id": "6dd073a4",
   "metadata": {},
   "outputs": [
    {
     "data": {
      "text/html": [
       "<style>#sk-container-id-4 {color: black;background-color: white;}#sk-container-id-4 pre{padding: 0;}#sk-container-id-4 div.sk-toggleable {background-color: white;}#sk-container-id-4 label.sk-toggleable__label {cursor: pointer;display: block;width: 100%;margin-bottom: 0;padding: 0.3em;box-sizing: border-box;text-align: center;}#sk-container-id-4 label.sk-toggleable__label-arrow:before {content: \"▸\";float: left;margin-right: 0.25em;color: #696969;}#sk-container-id-4 label.sk-toggleable__label-arrow:hover:before {color: black;}#sk-container-id-4 div.sk-estimator:hover label.sk-toggleable__label-arrow:before {color: black;}#sk-container-id-4 div.sk-toggleable__content {max-height: 0;max-width: 0;overflow: hidden;text-align: left;background-color: #f0f8ff;}#sk-container-id-4 div.sk-toggleable__content pre {margin: 0.2em;color: black;border-radius: 0.25em;background-color: #f0f8ff;}#sk-container-id-4 input.sk-toggleable__control:checked~div.sk-toggleable__content {max-height: 200px;max-width: 100%;overflow: auto;}#sk-container-id-4 input.sk-toggleable__control:checked~label.sk-toggleable__label-arrow:before {content: \"▾\";}#sk-container-id-4 div.sk-estimator input.sk-toggleable__control:checked~label.sk-toggleable__label {background-color: #d4ebff;}#sk-container-id-4 div.sk-label input.sk-toggleable__control:checked~label.sk-toggleable__label {background-color: #d4ebff;}#sk-container-id-4 input.sk-hidden--visually {border: 0;clip: rect(1px 1px 1px 1px);clip: rect(1px, 1px, 1px, 1px);height: 1px;margin: -1px;overflow: hidden;padding: 0;position: absolute;width: 1px;}#sk-container-id-4 div.sk-estimator {font-family: monospace;background-color: #f0f8ff;border: 1px dotted black;border-radius: 0.25em;box-sizing: border-box;margin-bottom: 0.5em;}#sk-container-id-4 div.sk-estimator:hover {background-color: #d4ebff;}#sk-container-id-4 div.sk-parallel-item::after {content: \"\";width: 100%;border-bottom: 1px solid gray;flex-grow: 1;}#sk-container-id-4 div.sk-label:hover label.sk-toggleable__label {background-color: #d4ebff;}#sk-container-id-4 div.sk-serial::before {content: \"\";position: absolute;border-left: 1px solid gray;box-sizing: border-box;top: 0;bottom: 0;left: 50%;z-index: 0;}#sk-container-id-4 div.sk-serial {display: flex;flex-direction: column;align-items: center;background-color: white;padding-right: 0.2em;padding-left: 0.2em;position: relative;}#sk-container-id-4 div.sk-item {position: relative;z-index: 1;}#sk-container-id-4 div.sk-parallel {display: flex;align-items: stretch;justify-content: center;background-color: white;position: relative;}#sk-container-id-4 div.sk-item::before, #sk-container-id-4 div.sk-parallel-item::before {content: \"\";position: absolute;border-left: 1px solid gray;box-sizing: border-box;top: 0;bottom: 0;left: 50%;z-index: -1;}#sk-container-id-4 div.sk-parallel-item {display: flex;flex-direction: column;z-index: 1;position: relative;background-color: white;}#sk-container-id-4 div.sk-parallel-item:first-child::after {align-self: flex-end;width: 50%;}#sk-container-id-4 div.sk-parallel-item:last-child::after {align-self: flex-start;width: 50%;}#sk-container-id-4 div.sk-parallel-item:only-child::after {width: 0;}#sk-container-id-4 div.sk-dashed-wrapped {border: 1px dashed gray;margin: 0 0.4em 0.5em 0.4em;box-sizing: border-box;padding-bottom: 0.4em;background-color: white;}#sk-container-id-4 div.sk-label label {font-family: monospace;font-weight: bold;display: inline-block;line-height: 1.2em;}#sk-container-id-4 div.sk-label-container {text-align: center;}#sk-container-id-4 div.sk-container {/* jupyter's `normalize.less` sets `[hidden] { display: none; }` but bootstrap.min.css set `[hidden] { display: none !important; }` so we also need the `!important` here to be able to override the default hidden behavior on the sphinx rendered scikit-learn.org. See: https://github.com/scikit-learn/scikit-learn/issues/21755 */display: inline-block !important;position: relative;}#sk-container-id-4 div.sk-text-repr-fallback {display: none;}</style><div id=\"sk-container-id-4\" class=\"sk-top-container\"><div class=\"sk-text-repr-fallback\"><pre>XGBClassifier(base_score=0.5, booster=&#x27;gbtree&#x27;, callbacks=None,\n",
       "              colsample_bylevel=1, colsample_bynode=1, colsample_bytree=1,\n",
       "              early_stopping_rounds=None, enable_categorical=False,\n",
       "              eval_metric=None, feature_types=None, gamma=0, gpu_id=-1,\n",
       "              grow_policy=&#x27;depthwise&#x27;, importance_type=None,\n",
       "              interaction_constraints=&#x27;&#x27;, learning_rate=0.1, max_bin=256,\n",
       "              max_cat_threshold=64, max_cat_to_onehot=4, max_delta_step=0,\n",
       "              max_depth=15, max_leaves=0, min_child_weight=5, missing=nan,\n",
       "              monotone_constraints=&#x27;()&#x27;, n_estimators=250, n_jobs=0,\n",
       "              num_parallel_tree=1, predictor=&#x27;auto&#x27;, random_state=0, ...)</pre><b>In a Jupyter environment, please rerun this cell to show the HTML representation or trust the notebook. <br />On GitHub, the HTML representation is unable to render, please try loading this page with nbviewer.org.</b></div><div class=\"sk-container\" hidden><div class=\"sk-item\"><div class=\"sk-estimator sk-toggleable\"><input class=\"sk-toggleable__control sk-hidden--visually\" id=\"sk-estimator-id-4\" type=\"checkbox\" checked><label for=\"sk-estimator-id-4\" class=\"sk-toggleable__label sk-toggleable__label-arrow\">XGBClassifier</label><div class=\"sk-toggleable__content\"><pre>XGBClassifier(base_score=0.5, booster=&#x27;gbtree&#x27;, callbacks=None,\n",
       "              colsample_bylevel=1, colsample_bynode=1, colsample_bytree=1,\n",
       "              early_stopping_rounds=None, enable_categorical=False,\n",
       "              eval_metric=None, feature_types=None, gamma=0, gpu_id=-1,\n",
       "              grow_policy=&#x27;depthwise&#x27;, importance_type=None,\n",
       "              interaction_constraints=&#x27;&#x27;, learning_rate=0.1, max_bin=256,\n",
       "              max_cat_threshold=64, max_cat_to_onehot=4, max_delta_step=0,\n",
       "              max_depth=15, max_leaves=0, min_child_weight=5, missing=nan,\n",
       "              monotone_constraints=&#x27;()&#x27;, n_estimators=250, n_jobs=0,\n",
       "              num_parallel_tree=1, predictor=&#x27;auto&#x27;, random_state=0, ...)</pre></div></div></div></div></div>"
      ],
      "text/plain": [
       "XGBClassifier(base_score=0.5, booster='gbtree', callbacks=None,\n",
       "              colsample_bylevel=1, colsample_bynode=1, colsample_bytree=1,\n",
       "              early_stopping_rounds=None, enable_categorical=False,\n",
       "              eval_metric=None, feature_types=None, gamma=0, gpu_id=-1,\n",
       "              grow_policy='depthwise', importance_type=None,\n",
       "              interaction_constraints='', learning_rate=0.1, max_bin=256,\n",
       "              max_cat_threshold=64, max_cat_to_onehot=4, max_delta_step=0,\n",
       "              max_depth=15, max_leaves=0, min_child_weight=5, missing=nan,\n",
       "              monotone_constraints='()', n_estimators=250, n_jobs=0,\n",
       "              num_parallel_tree=1, predictor='auto', random_state=0, ...)"
      ]
     },
     "execution_count": 34,
     "metadata": {},
     "output_type": "execute_result"
    }
   ],
   "source": [
    "import xgboost as xgb\n",
    "\n",
    "xgb_model = xgb.XGBClassifier(learning_rate=0.1, max_depth=15, min_child_weight=5, n_estimators=250)\n",
    "xgb_model.fit(X_train, Y_train)"
   ]
  },
  {
   "cell_type": "code",
   "execution_count": 35,
   "id": "426b1f39",
   "metadata": {},
   "outputs": [],
   "source": [
    "xgb_pred = xgb_model.predict_proba(X_test)[:, 1]\n",
    "xgb_pred = pd.DataFrame(xgb_pred) \n",
    "sub['target'] = xgb_pred\n",
    "sub.to_csv('sub_xgboost.csv', index=False, float_format = '%.5f')"
   ]
  },
  {
   "cell_type": "markdown",
   "id": "3b8534d3",
   "metadata": {},
   "source": [
    "12/10 바꾼 부분 : 파생피처 부분을 EDA -> feature engineering 부분 첫번째 과정으로 바꿈<br>\n",
    "-> 명목형 시각화 부분 바뀜<br>\n",
    "-> 결측값 확인 / 피처 요약표 생성 부분 결과 바뀜"
   ]
  },
  {
   "cell_type": "markdown",
   "id": "5ce09a4b",
   "metadata": {},
   "source": [
    "## lgb_1, lgb_2, xgb 앙상블"
   ]
  },
  {
   "cell_type": "code",
   "execution_count": 37,
   "id": "f00b7268",
   "metadata": {},
   "outputs": [],
   "source": [
    "lgb_test_1 = model_f1.predict(X_test)"
   ]
  },
  {
   "cell_type": "code",
   "execution_count": 40,
   "id": "8155800b",
   "metadata": {},
   "outputs": [
    {
     "data": {
      "text/html": [
       "<div>\n",
       "<style scoped>\n",
       "    .dataframe tbody tr th:only-of-type {\n",
       "        vertical-align: middle;\n",
       "    }\n",
       "\n",
       "    .dataframe tbody tr th {\n",
       "        vertical-align: top;\n",
       "    }\n",
       "\n",
       "    .dataframe thead th {\n",
       "        text-align: right;\n",
       "    }\n",
       "</style>\n",
       "<table border=\"1\" class=\"dataframe\">\n",
       "  <thead>\n",
       "    <tr style=\"text-align: right;\">\n",
       "      <th></th>\n",
       "      <th>0</th>\n",
       "    </tr>\n",
       "  </thead>\n",
       "  <tbody>\n",
       "    <tr>\n",
       "      <th>0</th>\n",
       "      <td>0.607792</td>\n",
       "    </tr>\n",
       "    <tr>\n",
       "      <th>1</th>\n",
       "      <td>0.658013</td>\n",
       "    </tr>\n",
       "    <tr>\n",
       "      <th>2</th>\n",
       "      <td>0.136709</td>\n",
       "    </tr>\n",
       "    <tr>\n",
       "      <th>3</th>\n",
       "      <td>0.112923</td>\n",
       "    </tr>\n",
       "    <tr>\n",
       "      <th>4</th>\n",
       "      <td>0.115664</td>\n",
       "    </tr>\n",
       "    <tr>\n",
       "      <th>...</th>\n",
       "      <td>...</td>\n",
       "    </tr>\n",
       "    <tr>\n",
       "      <th>2556785</th>\n",
       "      <td>0.341139</td>\n",
       "    </tr>\n",
       "    <tr>\n",
       "      <th>2556786</th>\n",
       "      <td>0.489711</td>\n",
       "    </tr>\n",
       "    <tr>\n",
       "      <th>2556787</th>\n",
       "      <td>0.300980</td>\n",
       "    </tr>\n",
       "    <tr>\n",
       "      <th>2556788</th>\n",
       "      <td>0.396830</td>\n",
       "    </tr>\n",
       "    <tr>\n",
       "      <th>2556789</th>\n",
       "      <td>0.400747</td>\n",
       "    </tr>\n",
       "  </tbody>\n",
       "</table>\n",
       "<p>2556790 rows × 1 columns</p>\n",
       "</div>"
      ],
      "text/plain": [
       "                0\n",
       "0        0.607792\n",
       "1        0.658013\n",
       "2        0.136709\n",
       "3        0.112923\n",
       "4        0.115664\n",
       "...           ...\n",
       "2556785  0.341139\n",
       "2556786  0.489711\n",
       "2556787  0.300980\n",
       "2556788  0.396830\n",
       "2556789  0.400747\n",
       "\n",
       "[2556790 rows x 1 columns]"
      ]
     },
     "execution_count": 40,
     "metadata": {},
     "output_type": "execute_result"
    }
   ],
   "source": [
    "lgb_test_1=pd.DataFrame(lgb_test_1)\n",
    "lgb_test_1"
   ]
  },
  {
   "cell_type": "code",
   "execution_count": 41,
   "id": "6ef95517",
   "metadata": {},
   "outputs": [],
   "source": [
    "# XGB & LGBM 앙상블\n",
    "xgb_lgb_asb = np.mean([lgb_test_1, xgb_pred], axis = 0)\n",
    "\n",
    "sub = pd.DataFrame()\n",
    "sub['id'] = ids\n",
    "sub['target'] = xgb_lgb_asb\n",
    "sub.to_csv('submission_xgb_lgbm_asb.csv', index=False, float_format = '%.5f')"
   ]
  },
  {
   "cell_type": "code",
   "execution_count": null,
   "id": "83fae3e8",
   "metadata": {},
   "outputs": [],
   "source": []
  },
  {
   "cell_type": "code",
   "execution_count": null,
   "id": "5d741bda",
   "metadata": {},
   "outputs": [],
   "source": []
  },
  {
   "cell_type": "code",
   "execution_count": null,
   "id": "73441bbd",
   "metadata": {},
   "outputs": [],
   "source": []
  }
 ],
 "metadata": {
  "kernelspec": {
   "display_name": "Python 3 (ipykernel)",
   "language": "python",
   "name": "python3"
  },
  "language_info": {
   "codemirror_mode": {
    "name": "ipython",
    "version": 3
   },
   "file_extension": ".py",
   "mimetype": "text/x-python",
   "name": "python",
   "nbconvert_exporter": "python",
   "pygments_lexer": "ipython3",
   "version": "3.9.7"
  },
  "toc": {
   "base_numbering": 1,
   "nav_menu": {},
   "number_sections": true,
   "sideBar": true,
   "skip_h1_title": false,
   "title_cell": "Table of Contents",
   "title_sidebar": "Contents",
   "toc_cell": false,
   "toc_position": {
    "height": "calc(100% - 180px)",
    "left": "10px",
    "top": "150px",
    "width": "229px"
   },
   "toc_section_display": true,
   "toc_window_display": true
  }
 },
 "nbformat": 4,
 "nbformat_minor": 5
}
